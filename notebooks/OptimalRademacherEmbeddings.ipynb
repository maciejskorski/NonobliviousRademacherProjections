{
  "cells": [
    {
      "cell_type": "markdown",
      "metadata": {
        "id": "view-in-github",
        "colab_type": "text"
      },
      "source": [
        "<a href=\"https://colab.research.google.com/github/maciejskorski/NonobliviousRademacherProjections/blob/main/notebooks/OptimalRademacherEmbeddings.ipynb\" target=\"_parent\"><img src=\"https://colab.research.google.com/assets/colab-badge.svg\" alt=\"Open In Colab\"/></a>"
      ]
    },
    {
      "cell_type": "code",
      "execution_count": null,
      "metadata": {
        "colab": {
          "base_uri": "https://localhost:8080/"
        },
        "id": "8nn0MGmm9eES",
        "outputId": "dadbaa31-007e-402f-bc0f-a31bc08c0cec"
      },
      "outputs": [
        {
          "output_type": "stream",
          "name": "stdout",
          "text": [
            "sparsity original\n",
            "0.0\n",
            "X_new\n",
            "(100, 3947)\n",
            "average sparsity random projection\n",
            "0.0\n",
            "density\n",
            "0.1\n",
            "distortion\n",
            "4.941938576658174\n",
            "X_new\n",
            "(100, 3947)\n",
            "average sparsity random projection\n",
            "0.0\n",
            "density\n",
            "0.25\n",
            "distortion\n",
            "10.393311076703473\n",
            "X_new\n",
            "(100, 3947)\n",
            "average sparsity random projection\n",
            "0.0\n",
            "density\n",
            "0.5\n",
            "distortion\n",
            "14.943950741612628\n",
            "X_new\n",
            "(100, 3947)\n",
            "average sparsity random projection\n",
            "0.0\n",
            "density\n",
            "0.75\n",
            "distortion\n",
            "19.29242303180447\n",
            "X_new\n",
            "(100, 3947)\n",
            "average sparsity random projection\n",
            "0.0\n",
            "density\n",
            "auto\n",
            "distortion\n",
            "24.802943619904134\n",
            "sparsity original\n",
            "0.0\n"
          ]
        }
      ],
      "source": [
        "import numpy as np\n",
        "from sklearn import random_projection\n",
        "\n",
        "def calculate_sparsity(A):\n",
        "    sparsity = 1 - np.count_nonzero(A)/np.product(A.shape)\n",
        "    return sparsity\n",
        "\n",
        "for num_dimensions in [10000,100000,1000000,10000000]:\n",
        "    distortion = 0\n",
        "    sparsity = 0\n",
        "    X = np.random.rand(100, num_dimensions)\n",
        "\n",
        "    sparsity_original = calculate_sparsity(X)\n",
        "\n",
        "    print(\"sparsity original\")\n",
        "    print(sparsity_original)\n",
        "    for density in [0.1,0.25,0.5,0.75, 'auto']:\n",
        "\n",
        "        for i in range(15):\n",
        "            transformer = random_projection.SparseRandomProjection(density=density)\n",
        "            X_new = transformer.fit_transform(X)\n",
        "\n",
        "            distortion = distortion + np.abs((np.linalg.norm(X_new,ord=2) - np.linalg.norm(X,ord=2)))\n",
        "            sparsity = sparsity + calculate_sparsity(X_new)\n",
        "\n",
        "\n",
        "        print(\"X_new\")\n",
        "        print(X_new.shape)\n",
        "        print(\"average sparsity random projection\")\n",
        "        print(sparsity/(i+1))\n",
        "        print(\"density\")\n",
        "        print(density)\n",
        "        print(\"distortion\")\n",
        "        print(distortion/(i+1))"
      ]
    },
    {
      "cell_type": "code",
      "execution_count": null,
      "metadata": {
        "colab": {
          "base_uri": "https://localhost:8080/"
        },
        "id": "9QDhVv7b91aE",
        "outputId": "66e4b1f3-4229-4e57-a311-0018269c66dc"
      },
      "outputs": [
        {
          "data": {
            "text/plain": [
              "(1, 100)"
            ]
          },
          "execution_count": 4,
          "metadata": {},
          "output_type": "execute_result"
        }
      ],
      "source": [
        "import numpy as np\n",
        "from sklearn.random_projection import SparseRandomProjection\n",
        "import seaborn as sns\n",
        "\n",
        "X = np.random.rand(1,100)\n",
        "X /= np.linalg.norm(X,ord=2,axis=1,keepdims=True)\n",
        "\n",
        "X.shape"
      ]
    },
    {
      "cell_type": "markdown",
      "metadata": {
        "id": "ihKU1soPcDSr"
      },
      "source": [
        "# Input sparsity vs empirical distortion\n",
        "\n",
        "Suppose that we project a vector with $L$ non-zero components, from $n_{input}$ to $n_{embed}$ dimensions with an appropriate matrix $P$.\n",
        "\n",
        "* How does the distortion $\\|P x\\|^2 / \\|x\\|^2$ depend on $L$?\n",
        "* How does the distortion depend on the embeddibg sparsity $p$?"
      ]
    },
    {
      "cell_type": "code",
      "execution_count": null,
      "metadata": {
        "colab": {
          "base_uri": "https://localhost:8080/",
          "height": 297
        },
        "id": "s35E6hA692Vo",
        "outputId": "35472ea3-6e2c-41a9-9194-d37d3c86ed66"
      },
      "outputs": [
        {
          "data": {
            "text/plain": [
              "<matplotlib.axes._subplots.AxesSubplot at 0x7efeb44c4f10>"
            ]
          },
          "execution_count": 5,
          "metadata": {},
          "output_type": "execute_result"
        },
        {
          "data": {
            "image/png": "[encoded data removed]",
            "text/plain": [
              "<Figure size 432x288 with 1 Axes>"
            ]
          },
          "metadata": {},
          "output_type": "display_data"
        }
      ],
      "source": [
        "import numpy as np\n",
        "import seaborn as sns\n",
        "import pandas as pd\n",
        "from sklearn.random_projection import SparseRandomProjection\n",
        "\n",
        "\n",
        "N_SAMPLES = 1000 # number of randomized projection restarts\n",
        "N_INPUT = 500 # length of projection input\n",
        "N_EMBED = 50 # length of projection output\n",
        "L = [10,100,500] # number of non-zero components (sparsity). Note: L is used in papers on comprehensive sensing\n",
        "outs = []\n",
        "for l in L:\n",
        "  # build vectors with L non-zero components out of N_INPUT\n",
        "  X = np.zeros((N_INPUT,))\n",
        "  idxs = np.random.choice(range(N_INPUT),size=(l,),replace=False)\n",
        "  X[idxs] = 1\n",
        "  X = X/np.linalg.norm(X,2) # normalize input\n",
        "  X = np.expand_dims(X,0) # reshape to (1,N)\n",
        "\n",
        "\n",
        "  for _ in range(N_SAMPLES):\n",
        "    transformer = SparseRandomProjection(n_components=N_EMBED,density=1.0)\n",
        "    X_new = transformer.fit_transform(X)\n",
        "    distortion = np.linalg.norm(X_new,2)**2 # squared distortion is bit smoother\n",
        "    #outs.append((distortion))\n",
        "    outs.append((distortion,l))\n",
        "\n",
        "df = pd.DataFrame(outs, columns=[\"distortion\", \"non-zero\"])\n",
        "\n",
        "#sns.kdeplot(outs, legend=True)\n",
        "sns.kdeplot(data=df, x=\"distortion\", hue=\"non-zero\", palette=\"tab10\")"
      ]
    },
    {
      "cell_type": "code",
      "execution_count": null,
      "metadata": {
        "colab": {
          "base_uri": "https://localhost:8080/",
          "height": 297
        },
        "id": "XyBllMluAqEp",
        "outputId": "fd61aa17-b167-4f57-b6d9-1ba36b422006"
      },
      "outputs": [
        {
          "data": {
            "text/plain": [
              "<matplotlib.axes._subplots.AxesSubplot at 0x7f021a38c9d0>"
            ]
          },
          "execution_count": 32,
          "metadata": {},
          "output_type": "execute_result"
        },
        {
          "data": {
            "image/png": "[encoded data removed]",
            "text/plain": [
              "<Figure size 432x288 with 1 Axes>"
            ]
          },
          "metadata": {},
          "output_type": "display_data"
        }
      ],
      "source": [
        "import numpy as np\n",
        "import seaborn as sns\n",
        "import pandas as pd\n",
        "\n",
        "\n",
        "N_SAMPLES = 1000 # number of randomized projection restarts\n",
        "N_INPUT = 5000 # length of projection input\n",
        "N_EMBED = 500 # length of projection output\n",
        "L = [10,100,750,1500] # number of non-zero components (sparsity). Note: L is used in papers on comprehensive sensing\n",
        "outs = []\n",
        "for l in L:\n",
        "  # build vectors with L non-zero components out of N_INPUT\n",
        "  X = np.zeros((N_INPUT,))\n",
        "  idxs = np.random.choice(range(N_INPUT),size=(l,),replace=False)\n",
        "  X[idxs] = 1\n",
        "  X = X/np.linalg.norm(X,2) # normalize input\n",
        "  X = np.expand_dims(X,0)\n",
        "\n",
        "\n",
        "  for _ in range(N_SAMPLES):\n",
        "    transformer = SparseRandomProjection(n_components=N_EMBED,density=1.0)\n",
        "    X_new = transformer.fit_transform(X)\n",
        "    distortion = np.linalg.norm(X_new,2)**2 # squared distortion is bit smoother\n",
        "    #outs.append((distortion))\n",
        "    outs.append((distortion,l))\n",
        "\n",
        "df = pd.DataFrame(outs, columns=[\"distortion\", \"non-zero\"])\n",
        "\n",
        "#sns.kdeplot(outs, legend=True)\n",
        "sns.kdeplot(data=df, x=\"distortion\", hue=\"non-zero\", palette=\"tab10\")"
      ]
    },
    {
      "cell_type": "code",
      "execution_count": null,
      "metadata": {
        "colab": {
          "base_uri": "https://localhost:8080/",
          "height": 297
        },
        "id": "HN9kbG_vF6a2",
        "outputId": "e449a41d-eb15-4414-a0b3-5b8ab0a27f42"
      },
      "outputs": [
        {
          "data": {
            "text/plain": [
              "<matplotlib.axes._subplots.AxesSubplot at 0x7efeaf1dcbd0>"
            ]
          },
          "execution_count": 15,
          "metadata": {},
          "output_type": "execute_result"
        },
        {
          "data": {
            "image/png": "[encoded data removed]",
            "text/plain": [
              "<Figure size 432x288 with 1 Axes>"
            ]
          },
          "metadata": {},
          "output_type": "display_data"
        }
      ],
      "source": [
        "import numpy as np\n",
        "import seaborn as sns\n",
        "import pandas as pd\n",
        "\n",
        "\n",
        "N_SAMPLES = 1000 # number of randomized projection restarts\n",
        "N_INPUT = 5000 # length of projection input\n",
        "N_EMBED = 50 # length of projection output\n",
        "L = 10 # number of non-zero components (sparsity). Note: L is used in papers on comprehensive sensing\n",
        "outs = []\n",
        "\n",
        "# build vectors with L non-zero components out of N_INPUT\n",
        "X = np.zeros((N_INPUT,))\n",
        "idxs = np.random.choice(range(N_INPUT),size=(L,),replace=False)\n",
        "X[idxs] = 1\n",
        "X = X/np.linalg.norm(X,2) # normalize input\n",
        "X = np.expand_dims(X,0)\n",
        "\n",
        "for dens in [0.1,0.25,0.75,1.0]:\n",
        "  for _ in range(N_SAMPLES):\n",
        "    transformer = SparseRandomProjection(n_components=N_EMBED,density=dens)\n",
        "    X_new = transformer.fit_transform(X)\n",
        "    distortion = np.linalg.norm(X_new,2)**2 # squared distortion is bit smoother\n",
        "    #outs.append((distortion))\n",
        "    outs.append((distortion,dens))\n",
        "\n",
        "df = pd.DataFrame(outs, columns=[\"distortion\", \"density\"])\n",
        "\n",
        "#sns.kdeplot(outs, legend=True)\n",
        "sns.kdeplot(data=df, x=\"distortion\", hue=\"density\", palette=\"tab10\")"
      ]
    },
    {
      "cell_type": "code",
      "execution_count": null,
      "metadata": {
        "colab": {
          "base_uri": "https://localhost:8080/",
          "height": 298
        },
        "id": "YerxVtZ3D7dB",
        "outputId": "9f6c5240-809d-4841-facf-f895c10546e3"
      },
      "outputs": [
        {
          "data": {
            "text/plain": [
              "<matplotlib.axes._subplots.AxesSubplot at 0x7efeaeffa210>"
            ]
          },
          "execution_count": 45,
          "metadata": {},
          "output_type": "execute_result"
        },
        {
          "data": {
            "image/png": "[encoded data removed]",
            "text/plain": [
              "<Figure size 432x288 with 1 Axes>"
            ]
          },
          "metadata": {},
          "output_type": "display_data"
        }
      ],
      "source": [
        "import numpy as np\n",
        "import seaborn as sns\n",
        "import pandas as pd\n",
        "from sklearn.random_projection import SparseRandomProjection\n",
        "\n",
        "\n",
        "N_SAMPLES = 1000 # number of randomized projection restarts\n",
        "N_INPUT = 10000 # length of projection input\n",
        "N_EMBED = 10 # length of projection output\n",
        "L = 10 # number of non-zero components (sparsity). Note: L is used in papers on comprehensive sensing\n",
        "outs = []\n",
        "\n",
        "# build vectors with L non-zero components out of N_INPUT\n",
        "X = np.zeros((N_INPUT,))\n",
        "idxs = np.random.choice(range(N_INPUT),size=(L,),replace=False)\n",
        "X[idxs] = 1\n",
        "X = X/np.linalg.norm(X,2) # normalize input\n",
        "X = np.expand_dims(X,0)\n",
        "\n",
        "for dens in [0.1,0.30,1.0]:\n",
        "  for _ in range(N_SAMPLES):\n",
        "    transformer = SparseRandomProjection(n_components=N_EMBED,density=dens)\n",
        "    X_new = transformer.fit_transform(X)\n",
        "    distortion = np.linalg.norm(X_new,2)**2 # squared distortion is bit smoother\n",
        "    outs.append((distortion,dens))\n",
        "\n",
        "df = pd.DataFrame(outs, columns=[\"distortion\", \"density\"])\n",
        "\n",
        "sns.kdeplot(data=df, x=\"distortion\", hue=\"density\", palette=\"tab10\")"
      ]
    },
    {
      "cell_type": "code",
      "execution_count": null,
      "metadata": {
        "colab": {
          "base_uri": "https://localhost:8080/",
          "height": 206
        },
        "id": "8S6pMZ-wynOg",
        "outputId": "7437d988-f214-49de-f0ee-00982db1522e"
      },
      "outputs": [
        {
          "data": {
            "text/html": [
              "\n",
              "  <div id=\"df-1eaeaf6e-9f80-4ed1-aa80-bb3d87d98cb2\">\n",
              "    <div class=\"colab-df-container\">\n",
              "      <div>\n",
              "<style scoped>\n",
              "    .dataframe tbody tr th:only-of-type {\n",
              "        vertical-align: middle;\n",
              "    }\n",
              "\n",
              "    .dataframe tbody tr th {\n",
              "        vertical-align: top;\n",
              "    }\n",
              "\n",
              "    .dataframe thead tr th {\n",
              "        text-align: left;\n",
              "    }\n",
              "\n",
              "    .dataframe thead tr:last-of-type th {\n",
              "        text-align: right;\n",
              "    }\n",
              "</style>\n",
              "<table border=\"1\" class=\"dataframe\">\n",
              "  <thead>\n",
              "    <tr>\n",
              "      <th></th>\n",
              "      <th colspan=\"2\" halign=\"left\">distortion</th>\n",
              "    </tr>\n",
              "    <tr>\n",
              "      <th></th>\n",
              "      <th>mean</th>\n",
              "      <th>std</th>\n",
              "    </tr>\n",
              "    <tr>\n",
              "      <th>density</th>\n",
              "      <th></th>\n",
              "      <th></th>\n",
              "    </tr>\n",
              "  </thead>\n",
              "  <tbody>\n",
              "    <tr>\n",
              "      <th>0.1</th>\n",
              "      <td>0.990700</td>\n",
              "      <td>0.483898</td>\n",
              "    </tr>\n",
              "    <tr>\n",
              "      <th>0.3</th>\n",
              "      <td>1.005833</td>\n",
              "      <td>0.447219</td>\n",
              "    </tr>\n",
              "    <tr>\n",
              "      <th>1.0</th>\n",
              "      <td>0.999440</td>\n",
              "      <td>0.426711</td>\n",
              "    </tr>\n",
              "  </tbody>\n",
              "</table>\n",
              "</div>\n",
              "      <button class=\"colab-df-convert\" onclick=\"convertToInteractive('df-1eaeaf6e-9f80-4ed1-aa80-bb3d87d98cb2')\"\n",
              "              title=\"Convert this dataframe to an interactive table.\"\n",
              "              style=\"display:none;\">\n",
              "        \n",
              "  <svg xmlns=\"http://www.w3.org/2000/svg\" height=\"24px\"viewBox=\"0 0 24 24\"\n",
              "       width=\"24px\">\n",
              "    <path d=\"M0 0h24v24H0V0z\" fill=\"none\"/>\n",
              "    <path d=\"M18.56 5.44l.94 2.06.94-2.06 2.06-.94-2.06-.94-.94-2.06-.94 2.06-2.06.94zm-11 1L8.5 8.5l.94-2.06 2.06-.94-2.06-.94L8.5 2.5l-.94 2.06-2.06.94zm10 10l.94 2.06.94-2.06 2.06-.94-2.06-.94-.94-2.06-.94 2.06-2.06.94z\"/><path d=\"M17.41 7.96l-1.37-1.37c-.4-.4-.92-.59-1.43-.59-.52 0-1.04.2-1.43.59L10.3 9.45l-7.72 7.72c-.78.78-.78 2.05 0 2.83L4 21.41c.39.39.9.59 1.41.59.51 0 1.02-.2 1.41-.59l7.78-7.78 2.81-2.81c.8-.78.8-2.07 0-2.86zM5.41 20L4 18.59l7.72-7.72 1.47 1.35L5.41 20z\"/>\n",
              "  </svg>\n",
              "      </button>\n",
              "      \n",
              "  <style>\n",
              "    .colab-df-container {\n",
              "      display:flex;\n",
              "      flex-wrap:wrap;\n",
              "      gap: 12px;\n",
              "    }\n",
              "\n",
              "    .colab-df-convert {\n",
              "      background-color: #E8F0FE;\n",
              "      border: none;\n",
              "      border-radius: 50%;\n",
              "      cursor: pointer;\n",
              "      display: none;\n",
              "      fill: #1967D2;\n",
              "      height: 32px;\n",
              "      padding: 0 0 0 0;\n",
              "      width: 32px;\n",
              "    }\n",
              "\n",
              "    .colab-df-convert:hover {\n",
              "      background-color: #E2EBFA;\n",
              "      box-shadow: 0px 1px 2px rgba(60, 64, 67, 0.3), 0px 1px 3px 1px rgba(60, 64, 67, 0.15);\n",
              "      fill: #174EA6;\n",
              "    }\n",
              "\n",
              "    [theme=dark] .colab-df-convert {\n",
              "      background-color: #3B4455;\n",
              "      fill: #D2E3FC;\n",
              "    }\n",
              "\n",
              "    [theme=dark] .colab-df-convert:hover {\n",
              "      background-color: #434B5C;\n",
              "      box-shadow: 0px 1px 3px 1px rgba(0, 0, 0, 0.15);\n",
              "      filter: drop-shadow(0px 1px 2px rgba(0, 0, 0, 0.3));\n",
              "      fill: #FFFFFF;\n",
              "    }\n",
              "  </style>\n",
              "\n",
              "      <script>\n",
              "        const buttonEl =\n",
              "          document.querySelector('#df-1eaeaf6e-9f80-4ed1-aa80-bb3d87d98cb2 button.colab-df-convert');\n",
              "        buttonEl.style.display =\n",
              "          google.colab.kernel.accessAllowed ? 'block' : 'none';\n",
              "\n",
              "        async function convertToInteractive(key) {\n",
              "          const element = document.querySelector('#df-1eaeaf6e-9f80-4ed1-aa80-bb3d87d98cb2');\n",
              "          const dataTable =\n",
              "            await google.colab.kernel.invokeFunction('convertToInteractive',\n",
              "                                                     [key], {});\n",
              "          if (!dataTable) return;\n",
              "\n",
              "          const docLinkHtml = 'Like what you see? Visit the ' +\n",
              "            '<a target=\"_blank\" href=https://colab.research.google.com/notebooks/data_table.ipynb>data table notebook</a>'\n",
              "            + ' to learn more about interactive tables.';\n",
              "          element.innerHTML = '';\n",
              "          dataTable['output_type'] = 'display_data';\n",
              "          await google.colab.output.renderOutput(dataTable, element);\n",
              "          const docLink = document.createElement('div');\n",
              "          docLink.innerHTML = docLinkHtml;\n",
              "          element.appendChild(docLink);\n",
              "        }\n",
              "      </script>\n",
              "    </div>\n",
              "  </div>\n",
              "  "
            ],
            "text/plain": [
              "        distortion          \n",
              "              mean       std\n",
              "density                     \n",
              "0.1       0.990700  0.483898\n",
              "0.3       1.005833  0.447219\n",
              "1.0       0.999440  0.426711"
            ]
          },
          "execution_count": 50,
          "metadata": {},
          "output_type": "execute_result"
        }
      ],
      "source": [
        "df.groupby('density').agg(['mean','std'])"
      ]
    },
    {
      "cell_type": "markdown",
      "source": [
        "# Real world datasets experiments"
      ],
      "metadata": {
        "id": "IfwYJvf_xXpn"
      }
    },
    {
      "cell_type": "markdown",
      "source": [
        "##Download datasets"
      ],
      "metadata": {
        "id": "z1M4noeb2eFf"
      }
    },
    {
      "cell_type": "code",
      "source": [
        "datasets = {}"
      ],
      "metadata": {
        "id": "oBiH0ue-Pbx1"
      },
      "execution_count": null,
      "outputs": []
    },
    {
      "cell_type": "markdown",
      "source": [
        "### MNIST"
      ],
      "metadata": {
        "id": "igr1Jzj8Sl6b"
      }
    },
    {
      "cell_type": "code",
      "source": [
        "import tensorflow as tf\n",
        "from tensorflow.keras import backend as K\n",
        "import numpy as np\n",
        "import seaborn as sns\n",
        "import pandas as pd\n",
        "from sklearn.random_projection import SparseRandomProjection\n",
        "\n",
        "mnist = tf.keras.datasets.mnist\n",
        "(train_inputs, train_labels), _ = mnist.load_data()\n",
        "train_inputs = train_inputs / 255.0\n",
        "\n",
        "n_samples = 50\n",
        "#n_samples = 500\n",
        "\n",
        "subsample = np.random.random_integers(0,train_inputs.shape[0],size=n_samples)\n",
        "\n",
        "Xs = train_inputs[subsample]\n",
        "\n",
        "datasets['MNIST'] = Xs"
      ],
      "metadata": {
        "colab": {
          "base_uri": "https://localhost:8080/"
        },
        "id": "jAWSYLuBPStA",
        "outputId": "0b198754-ce9e-44f7-844f-ac98d2032e2b"
      },
      "execution_count": null,
      "outputs": [
        {
          "output_type": "stream",
          "name": "stdout",
          "text": [
            "Downloading data from https://storage.googleapis.com/tensorflow/tf-keras-datasets/mnist.npz\n",
            "11490434/11490434 [==============================] - 0s 0us/step\n"
          ]
        },
        {
          "output_type": "stream",
          "name": "stderr",
          "text": [
            "/usr/local/lib/python3.7/dist-packages/ipykernel_launcher.py:15: DeprecationWarning: This function is deprecated. Please call randint(0, 60000 + 1) instead\n",
            "  from ipykernel import kernelapp as app\n"
          ]
        }
      ]
    },
    {
      "cell_type": "markdown",
      "source": [
        "### CIFAR10"
      ],
      "metadata": {
        "id": "PrI7RKGESpSp"
      }
    },
    {
      "cell_type": "code",
      "source": [
        "from tensorflow.keras.datasets import cifar10\n",
        "\n",
        "n_samples = 50\n",
        "#n_samples = 100\n",
        "\n",
        "(train_data,_),_ = cifar10.load_data()\n",
        "subsample = np.random.random_integers(0,len(train_data),n_samples)\n",
        "#cifar10 = train_data[subsample][:,:,:,0]\n",
        "Xs = train_data[subsample][:,:,:,0]\n",
        "#datasets = {'CIFAR10': Xs}\n",
        "datasets['CIFAR10'] = Xs\n",
        "#average_param_gain(Xs)"
      ],
      "metadata": {
        "id": "ytnkpkIBhPaX",
        "colab": {
          "base_uri": "https://localhost:8080/"
        },
        "outputId": "1e65ff91-92e3-44ef-b355-4584698315b4"
      },
      "execution_count": null,
      "outputs": [
        {
          "output_type": "stream",
          "name": "stdout",
          "text": [
            "Downloading data from https://www.cs.toronto.edu/~kriz/cifar-10-python.tar.gz\n",
            "170498071/170498071 [==============================] - 4s 0us/step\n"
          ]
        },
        {
          "output_type": "stream",
          "name": "stderr",
          "text": [
            "/usr/local/lib/python3.7/dist-packages/ipykernel_launcher.py:7: DeprecationWarning: This function is deprecated. Please call randint(0, 50000 + 1) instead\n",
            "  import sys\n"
          ]
        }
      ]
    },
    {
      "cell_type": "markdown",
      "source": [
        "### NIPS"
      ],
      "metadata": {
        "id": "gOVjwpLBSryC"
      }
    },
    {
      "cell_type": "code",
      "source": [
        "!wget https://archive.ics.uci.edu/ml/machine-learning-databases/00371/NIPS_1987-2015.csv\n",
        "\n",
        "import pandas as pd\n",
        "\n",
        "n_samples = 50\n",
        "#n_samples = 200\n",
        "\n",
        "# beware that features are in rows (words)\n",
        "d = pd.read_csv('NIPS_1987-2015.csv')\n",
        "\n",
        "subsample = np.random.random_integers(0,d.shape[1],size=n_samples)\n",
        "cols = d.columns[subsample]\n",
        "Xs = d[cols].T\n",
        "Xs = Xs.to_numpy()\n",
        "Xs = [x for x in Xs]\n",
        "\n",
        "datasets['NIPS'] = Xs"
      ],
      "metadata": {
        "id": "l4pXcSLcPW8p",
        "colab": {
          "base_uri": "https://localhost:8080/"
        },
        "outputId": "f451b3f7-0950-4d7c-f4ed-cafd403b0b98"
      },
      "execution_count": null,
      "outputs": [
        {
          "output_type": "stream",
          "name": "stdout",
          "text": [
            "--2022-10-13 10:32:03--  https://archive.ics.uci.edu/ml/machine-learning-databases/00371/NIPS_1987-2015.csv\n",
            "Resolving archive.ics.uci.edu (archive.ics.uci.edu)... 128.195.10.252\n",
            "Connecting to archive.ics.uci.edu (archive.ics.uci.edu)|128.195.10.252|:443... connected.\n",
            "HTTP request sent, awaiting response... 200 OK\n",
            "Length: 133587258 (127M) [application/x-httpd-php]\n",
            "Saving to: ‘NIPS_1987-2015.csv’\n",
            "\n",
            "NIPS_1987-2015.csv  100%[===================>] 127.40M  85.7MB/s    in 1.5s    \n",
            "\n",
            "2022-10-13 10:32:05 (85.7 MB/s) - ‘NIPS_1987-2015.csv’ saved [133587258/133587258]\n",
            "\n"
          ]
        },
        {
          "output_type": "stream",
          "name": "stderr",
          "text": [
            "/usr/local/lib/python3.7/dist-packages/ipykernel_launcher.py:11: DeprecationWarning: This function is deprecated. Please call randint(0, 5812 + 1) instead\n",
            "  # This is added back by InteractiveShellApp.init_path()\n"
          ]
        }
      ]
    },
    {
      "cell_type": "markdown",
      "source": [
        "### Mycielski"
      ],
      "metadata": {
        "id": "Tlk6bM_cStnW"
      }
    },
    {
      "cell_type": "code",
      "source": [
        "import scipy.io\n",
        "\n",
        "!wget https://suitesparse-collection-website.herokuapp.com/MM/Mycielski/mycielskian17.tar.gz\n",
        "!tar -xf mycielskian17.tar.gz\n",
        "\n",
        "n_samples = 50\n",
        "\n",
        "file_name = 'mycielskian17/mycielskian17.mtx'\n",
        "matrix = scipy.io.mmread(file_name)\n",
        "matrix = scipy.sparse.csr_matrix(matrix)\n",
        "\n",
        "subsample = np.random.random_integers(0,matrix.shape[0],size=n_samples)\n",
        "\n",
        "Xs = matrix[subsample]\n",
        "Xs = [x.toarray() for x in Xs]\n",
        "datasets['Mycielski'] = Xs"
      ],
      "metadata": {
        "id": "aX0z3UTx2hLl",
        "colab": {
          "base_uri": "https://localhost:8080/"
        },
        "outputId": "356df6ff-74c0-4f64-c27a-758d80fd6de1"
      },
      "execution_count": null,
      "outputs": [
        {
          "output_type": "stream",
          "name": "stdout",
          "text": [
            "--2022-10-13 10:30:23--  https://suitesparse-collection-website.herokuapp.com/MM/Mycielski/mycielskian17.tar.gz\n",
            "Resolving suitesparse-collection-website.herokuapp.com (suitesparse-collection-website.herokuapp.com)... 54.224.34.30, 34.201.81.34, 54.208.186.182, ...\n",
            "Connecting to suitesparse-collection-website.herokuapp.com (suitesparse-collection-website.herokuapp.com)|54.224.34.30|:443... connected.\n",
            "HTTP request sent, awaiting response... 301 Moved Permanently\n",
            "Location: http://sparse-files.engr.tamu.edu/MM/Mycielski/mycielskian17.tar.gz [following]\n",
            "--2022-10-13 10:30:24--  http://sparse-files.engr.tamu.edu/MM/Mycielski/mycielskian17.tar.gz\n",
            "Resolving sparse-files.engr.tamu.edu (sparse-files.engr.tamu.edu)... 52.219.177.200\n",
            "Connecting to sparse-files.engr.tamu.edu (sparse-files.engr.tamu.edu)|52.219.177.200|:80... connected.\n",
            "HTTP request sent, awaiting response... 200 OK\n",
            "Length: 120811979 (115M) [application/x-tar]\n",
            "Saving to: ‘mycielskian17.tar.gz’\n",
            "\n",
            "mycielskian17.tar.g 100%[===================>] 115.21M  37.6MB/s    in 3.1s    \n",
            "\n",
            "2022-10-13 10:30:27 (37.6 MB/s) - ‘mycielskian17.tar.gz’ saved [120811979/120811979]\n",
            "\n"
          ]
        },
        {
          "output_type": "stream",
          "name": "stderr",
          "text": [
            "/usr/local/lib/python3.7/dist-packages/ipykernel_launcher.py:12: DeprecationWarning: This function is deprecated. Please call randint(0, 98303 + 1) instead\n",
            "  if sys.path[0] == '':\n"
          ]
        }
      ]
    },
    {
      "cell_type": "markdown",
      "source": [
        "### Goodwin"
      ],
      "metadata": {
        "id": "xctZwjRHSzNg"
      }
    },
    {
      "cell_type": "code",
      "source": [
        "!wget https://suitesparse-collection-website.herokuapp.com/MM/Goodwin/Goodwin_040.tar.gz\n",
        "!tar -xf Goodwin_040.tar.gz\n",
        "\n",
        "n_samples = 50\n",
        "\n",
        "file_name = 'Goodwin_040/Goodwin_040.mtx'\n",
        "matrix = scipy.io.mmread(file_name)\n",
        "matrix = scipy.sparse.csr_matrix(matrix)\n",
        "\n",
        "subsample = np.random.random_integers(0,matrix.shape[0],size=n_samples)\n",
        "\n",
        "Xs = matrix[subsample]\n",
        "Xs = [x.toarray() for x in Xs]\n",
        "\n",
        "datasets['Goodwin'] = Xs"
      ],
      "metadata": {
        "id": "iZSwZpZp2j97",
        "colab": {
          "base_uri": "https://localhost:8080/"
        },
        "outputId": "b92d37c3-a467-4fb3-ff1f-2ef8c323170b"
      },
      "execution_count": null,
      "outputs": [
        {
          "output_type": "stream",
          "name": "stderr",
          "text": [
            "/usr/local/lib/python3.7/dist-packages/ipykernel_launcher.py:10: DeprecationWarning: This function is deprecated. Please call randint(0, 17922 + 1) instead\n",
            "  # Remove the CWD from sys.path while we load stuff.\n"
          ]
        }
      ]
    },
    {
      "cell_type": "markdown",
      "source": [
        "### 1138_bus"
      ],
      "metadata": {
        "id": "KPDUSWlBS1_f"
      }
    },
    {
      "cell_type": "code",
      "source": [
        "!wget https://suitesparse-collection-website.herokuapp.com/MM/HB/1138_bus.tar.gz\n",
        "!tar -xf 1138_bus.tar.gz\n",
        "\n",
        "#n_samples = 50\n",
        "n_samples = 100\n",
        "\n",
        "file_name = '1138_bus/1138_bus.mtx'\n",
        "matrix = scipy.io.mmread(file_name)\n",
        "matrix = scipy.sparse.csr_matrix(matrix)\n",
        "\n",
        "subsample = np.random.random_integers(0,matrix.shape[0],size=n_samples)\n",
        "\n",
        "Xs = matrix[subsample]\n",
        "Xs = [x.toarray() for x in Xs]\n",
        "\n",
        "datasets['1138_bus'] = Xs\n",
        "#Power Network Problem"
      ],
      "metadata": {
        "id": "11DRtQKTHzUj",
        "colab": {
          "base_uri": "https://localhost:8080/"
        },
        "outputId": "47734976-1823-4b9b-a27d-6e76592b75e2"
      },
      "execution_count": null,
      "outputs": [
        {
          "output_type": "stream",
          "name": "stdout",
          "text": [
            "--2022-10-13 10:29:07--  https://suitesparse-collection-website.herokuapp.com/MM/HB/1138_bus.tar.gz\n",
            "Resolving suitesparse-collection-website.herokuapp.com (suitesparse-collection-website.herokuapp.com)... 54.208.186.182, 54.243.129.215, 34.201.81.34, ...\n",
            "Connecting to suitesparse-collection-website.herokuapp.com (suitesparse-collection-website.herokuapp.com)|54.208.186.182|:443... connected.\n",
            "HTTP request sent, awaiting response... 301 Moved Permanently\n",
            "Location: http://sparse-files.engr.tamu.edu/MM/HB/1138_bus.tar.gz [following]\n",
            "--2022-10-13 10:29:07--  http://sparse-files.engr.tamu.edu/MM/HB/1138_bus.tar.gz\n",
            "Resolving sparse-files.engr.tamu.edu (sparse-files.engr.tamu.edu)... 52.219.109.216\n",
            "Connecting to sparse-files.engr.tamu.edu (sparse-files.engr.tamu.edu)|52.219.109.216|:80... connected.\n",
            "HTTP request sent, awaiting response... 200 OK\n",
            "Length: 19829 (19K) [application/x-tar]\n",
            "Saving to: ‘1138_bus.tar.gz’\n",
            "\n",
            "1138_bus.tar.gz     100%[===================>]  19.36K  --.-KB/s    in 0.06s   \n",
            "\n",
            "2022-10-13 10:29:07 (309 KB/s) - ‘1138_bus.tar.gz’ saved [19829/19829]\n",
            "\n"
          ]
        },
        {
          "output_type": "stream",
          "name": "stderr",
          "text": [
            "/usr/local/lib/python3.7/dist-packages/ipykernel_launcher.py:11: DeprecationWarning: This function is deprecated. Please call randint(0, 1138 + 1) instead\n",
            "  # This is added back by InteractiveShellApp.init_path()\n"
          ]
        }
      ]
    },
    {
      "cell_type": "markdown",
      "source": [
        "### bcspwr06"
      ],
      "metadata": {
        "id": "VqHKRj2eS5GI"
      }
    },
    {
      "cell_type": "code",
      "source": [
        "!wget https://suitesparse-collection-website.herokuapp.com/MM/HB/bcspwr06.tar.gz\n",
        "!tar -xf bcspwr06.tar.gz\n",
        "\n",
        "n_samples = 50\n",
        "#n_samples = 100\n",
        "\n",
        "file_name = 'bcspwr06/bcspwr06.mtx'\n",
        "matrix = scipy.io.mmread(file_name)\n",
        "matrix = scipy.sparse.csr_matrix(matrix)\n",
        "\n",
        "subsample = np.random.random_integers(0,matrix.shape[0],size=n_samples)\n",
        "\n",
        "Xs = matrix[subsample]\n",
        "Xs = [x.toarray() for x in Xs]\n",
        "\n",
        "datasets['bcspwr06'] = Xs\n",
        "#Power Network Problem"
      ],
      "metadata": {
        "id": "QZP00ZSPKEPB",
        "colab": {
          "base_uri": "https://localhost:8080/"
        },
        "outputId": "92c92159-9832-480a-fc75-b355d88e5623"
      },
      "execution_count": null,
      "outputs": [
        {
          "output_type": "stream",
          "name": "stdout",
          "text": [
            "--2022-10-13 10:19:37--  https://suitesparse-collection-website.herokuapp.com/MM/HB/bcspwr06.tar.gz\n",
            "Resolving suitesparse-collection-website.herokuapp.com (suitesparse-collection-website.herokuapp.com)... 54.224.34.30, 54.208.186.182, 34.201.81.34, ...\n",
            "Connecting to suitesparse-collection-website.herokuapp.com (suitesparse-collection-website.herokuapp.com)|54.224.34.30|:443... connected.\n",
            "HTTP request sent, awaiting response... 301 Moved Permanently\n",
            "Location: http://sparse-files.engr.tamu.edu/MM/HB/bcspwr06.tar.gz [following]\n",
            "--2022-10-13 10:19:37--  http://sparse-files.engr.tamu.edu/MM/HB/bcspwr06.tar.gz\n",
            "Resolving sparse-files.engr.tamu.edu (sparse-files.engr.tamu.edu)... 52.219.108.168\n",
            "Connecting to sparse-files.engr.tamu.edu (sparse-files.engr.tamu.edu)|52.219.108.168|:80... connected.\n",
            "HTTP request sent, awaiting response... 200 OK\n",
            "Length: 10254 (10K) [application/x-tar]\n",
            "Saving to: ‘bcspwr06.tar.gz’\n",
            "\n",
            "bcspwr06.tar.gz     100%[===================>]  10.01K  --.-KB/s    in 0s      \n",
            "\n",
            "2022-10-13 10:19:38 (198 MB/s) - ‘bcspwr06.tar.gz’ saved [10254/10254]\n",
            "\n"
          ]
        },
        {
          "output_type": "stream",
          "name": "stderr",
          "text": [
            "/usr/local/lib/python3.7/dist-packages/ipykernel_launcher.py:11: DeprecationWarning: This function is deprecated. Please call randint(0, 1454 + 1) instead\n",
            "  # This is added back by InteractiveShellApp.init_path()\n"
          ]
        }
      ]
    },
    {
      "cell_type": "markdown",
      "source": [
        "### mnist_test_norm"
      ],
      "metadata": {
        "id": "Egk4r5LIS8oo"
      }
    },
    {
      "cell_type": "code",
      "source": [
        "import scipy.io\n",
        "!wget https://suitesparse-collection-website.herokuapp.com/MM/ML_Graph/mnist_test_norm_10NN.tar.gz\n",
        "!tar -xf mnist_test_norm_10NN.tar.gz\n",
        "\n",
        "n_samples = 50\n",
        "#n_samples = 800\n",
        "\n",
        "file_name = 'mnist_test_norm_10NN/mnist_test_norm_10NN.mtx'\n",
        "matrix = scipy.io.mmread(file_name)\n",
        "matrix = scipy.sparse.csr_matrix(matrix)\n",
        "\n",
        "subsample = np.random.random_integers(0,matrix.shape[0],size=n_samples)\n",
        "\n",
        "Xs = matrix[subsample]\n",
        "Xs = [x.toarray() for x in Xs]\n",
        "\n",
        "datasets['mnist_test_norm_10NN'] = Xs\n",
        "#Undirected Weighted Graph"
      ],
      "metadata": {
        "colab": {
          "base_uri": "https://localhost:8080/"
        },
        "id": "sDPDwsgwLvpO",
        "outputId": "d07001c4-9a50-4ba8-cb8f-fce5f828a882"
      },
      "execution_count": null,
      "outputs": [
        {
          "output_type": "stream",
          "name": "stdout",
          "text": [
            "--2022-10-13 12:48:06--  https://suitesparse-collection-website.herokuapp.com/MM/ML_Graph/mnist_test_norm_10NN.tar.gz\n",
            "Resolving suitesparse-collection-website.herokuapp.com (suitesparse-collection-website.herokuapp.com)... 34.201.81.34, 54.208.186.182, 54.224.34.30, ...\n",
            "Connecting to suitesparse-collection-website.herokuapp.com (suitesparse-collection-website.herokuapp.com)|34.201.81.34|:443... connected.\n",
            "HTTP request sent, awaiting response... 301 Moved Permanently\n",
            "Location: http://sparse-files.engr.tamu.edu/MM/ML_Graph/mnist_test_norm_10NN.tar.gz [following]\n",
            "--2022-10-13 12:48:06--  http://sparse-files.engr.tamu.edu/MM/ML_Graph/mnist_test_norm_10NN.tar.gz\n",
            "Resolving sparse-files.engr.tamu.edu (sparse-files.engr.tamu.edu)... 52.219.100.43\n",
            "Connecting to sparse-files.engr.tamu.edu (sparse-files.engr.tamu.edu)|52.219.100.43|:80... connected.\n",
            "HTTP request sent, awaiting response... 200 OK\n",
            "Length: 898856 (878K) [application/x-tar]\n",
            "Saving to: ‘mnist_test_norm_10NN.tar.gz.1’\n",
            "\n",
            "mnist_test_norm_10N 100%[===================>] 877.79K  4.94MB/s    in 0.2s    \n",
            "\n",
            "2022-10-13 12:48:06 (4.94 MB/s) - ‘mnist_test_norm_10NN.tar.gz.1’ saved [898856/898856]\n",
            "\n"
          ]
        },
        {
          "output_type": "stream",
          "name": "stderr",
          "text": [
            "/usr/local/lib/python3.7/dist-packages/ipykernel_launcher.py:12: DeprecationWarning: This function is deprecated. Please call randint(0, 10000 + 1) instead\n",
            "  if sys.path[0] == '':\n"
          ]
        }
      ]
    },
    {
      "cell_type": "markdown",
      "source": [
        "### optdigit"
      ],
      "metadata": {
        "id": "l9GoiUC9VFGL"
      }
    },
    {
      "cell_type": "code",
      "source": [
        "!wget https://suitesparse-collection-website.herokuapp.com/MM/ML_Graph/optdigits_10NN.tar.gz\n",
        "!tar -xf optdigits_10NN.tar.gz\n",
        "\n",
        "n_samples = 50\n",
        "#n_samples = 400\n",
        "\n",
        "file_name = 'optdigits_10NN/optdigits_10NN.mtx'\n",
        "matrix = scipy.io.mmread(file_name)\n",
        "matrix = scipy.sparse.csr_matrix(matrix)\n",
        "\n",
        "subsample = np.random.random_integers(0,matrix.shape[0],size=n_samples)\n",
        "\n",
        "Xs = matrix[subsample]\n",
        "Xs = [x.toarray() for x in Xs]\n",
        "\n",
        "datasets['optdigits_10NN'] = Xs\n",
        "#Undirected Weighted Graph"
      ],
      "metadata": {
        "colab": {
          "base_uri": "https://localhost:8080/"
        },
        "id": "ykkvkDEZVHwv",
        "outputId": "e03fae55-f874-49e6-d12f-c9e01e6b8946"
      },
      "execution_count": null,
      "outputs": [
        {
          "output_type": "stream",
          "name": "stdout",
          "text": [
            "--2022-10-13 09:51:26--  https://suitesparse-collection-website.herokuapp.com/MM/ML_Graph/optdigits_10NN.tar.gz\n",
            "Resolving suitesparse-collection-website.herokuapp.com (suitesparse-collection-website.herokuapp.com)... 54.243.129.215, 54.208.186.182, 54.224.34.30, ...\n",
            "Connecting to suitesparse-collection-website.herokuapp.com (suitesparse-collection-website.herokuapp.com)|54.243.129.215|:443... connected.\n",
            "HTTP request sent, awaiting response... 301 Moved Permanently\n",
            "Location: http://sparse-files.engr.tamu.edu/MM/ML_Graph/optdigits_10NN.tar.gz [following]\n",
            "--2022-10-13 09:51:27--  http://sparse-files.engr.tamu.edu/MM/ML_Graph/optdigits_10NN.tar.gz\n",
            "Resolving sparse-files.engr.tamu.edu (sparse-files.engr.tamu.edu)... 52.219.106.184\n",
            "Connecting to sparse-files.engr.tamu.edu (sparse-files.engr.tamu.edu)|52.219.106.184|:80... connected.\n",
            "HTTP request sent, awaiting response... 200 OK\n",
            "Length: 478572 (467K) [application/x-tar]\n",
            "Saving to: ‘optdigits_10NN.tar.gz’\n",
            "\n",
            "optdigits_10NN.tar. 100%[===================>] 467.36K  1.44MB/s    in 0.3s    \n",
            "\n",
            "2022-10-13 09:51:27 (1.44 MB/s) - ‘optdigits_10NN.tar.gz’ saved [478572/478572]\n",
            "\n"
          ]
        },
        {
          "output_type": "stream",
          "name": "stderr",
          "text": [
            "/usr/local/lib/python3.7/dist-packages/ipykernel_launcher.py:11: DeprecationWarning: This function is deprecated. Please call randint(0, 5620 + 1) instead\n",
            "  # This is added back by InteractiveShellApp.init_path()\n"
          ]
        }
      ]
    },
    {
      "cell_type": "markdown",
      "source": [
        "### plantsmargin"
      ],
      "metadata": {
        "id": "6-rYp2LazhMk"
      }
    },
    {
      "cell_type": "code",
      "source": [
        "!wget https://suitesparse-collection-website.herokuapp.com/MM/ML_Graph/plantsmargin_12NN.tar.gz\n",
        "!tar -xf plantsmargin_12NN.tar.gz\n",
        "\n",
        "n_samples = 50\n",
        "#n_samples = 200\n",
        "\n",
        "file_name = 'plantsmargin_12NN/plantsmargin_12NN.mtx'\n",
        "matrix = scipy.io.mmread(file_name)\n",
        "matrix = scipy.sparse.csr_matrix(matrix)\n",
        "\n",
        "subsample = np.random.random_integers(0,matrix.shape[0],size=n_samples)\n",
        "\n",
        "Xs = matrix[subsample]\n",
        "Xs = [x.toarray() for x in Xs]\n",
        "\n",
        "datasets['plantsmargin_12NN'] = Xs\n",
        "#Undirected Weighted Graph"
      ],
      "metadata": {
        "id": "kCMnFjhdzkpO",
        "colab": {
          "base_uri": "https://localhost:8080/"
        },
        "outputId": "3cbcc4fb-464a-41c8-b0e3-787a57cbc250"
      },
      "execution_count": null,
      "outputs": [
        {
          "output_type": "stream",
          "name": "stdout",
          "text": [
            "--2022-10-13 09:51:40--  https://suitesparse-collection-website.herokuapp.com/MM/ML_Graph/plantsmargin_12NN.tar.gz\n",
            "Resolving suitesparse-collection-website.herokuapp.com (suitesparse-collection-website.herokuapp.com)... 54.243.129.215, 54.208.186.182, 54.224.34.30, ...\n",
            "Connecting to suitesparse-collection-website.herokuapp.com (suitesparse-collection-website.herokuapp.com)|54.243.129.215|:443... connected.\n",
            "HTTP request sent, awaiting response... 301 Moved Permanently\n",
            "Location: http://sparse-files.engr.tamu.edu/MM/ML_Graph/plantsmargin_12NN.tar.gz [following]\n",
            "--2022-10-13 09:51:40--  http://sparse-files.engr.tamu.edu/MM/ML_Graph/plantsmargin_12NN.tar.gz\n",
            "Resolving sparse-files.engr.tamu.edu (sparse-files.engr.tamu.edu)... 52.219.177.24\n",
            "Connecting to sparse-files.engr.tamu.edu (sparse-files.engr.tamu.edu)|52.219.177.24|:80... connected.\n",
            "HTTP request sent, awaiting response... 200 OK\n",
            "Length: 151077 (148K) [application/x-tar]\n",
            "Saving to: ‘plantsmargin_12NN.tar.gz’\n",
            "\n",
            "plantsmargin_12NN.t 100%[===================>] 147.54K   779KB/s    in 0.2s    \n",
            "\n",
            "2022-10-13 09:51:40 (779 KB/s) - ‘plantsmargin_12NN.tar.gz’ saved [151077/151077]\n",
            "\n"
          ]
        },
        {
          "output_type": "stream",
          "name": "stderr",
          "text": [
            "/usr/local/lib/python3.7/dist-packages/ipykernel_launcher.py:11: DeprecationWarning: This function is deprecated. Please call randint(0, 1600 + 1) instead\n",
            "  # This is added back by InteractiveShellApp.init_path()\n"
          ]
        }
      ]
    },
    {
      "cell_type": "markdown",
      "source": [
        "### planstexture"
      ],
      "metadata": {
        "id": "2pDRVWa7144l"
      }
    },
    {
      "cell_type": "code",
      "source": [
        "!wget https://suitesparse-collection-website.herokuapp.com/MM/ML_Graph/plantstexture_10NN.tar.gz\n",
        "!tar -xf plantstexture_10NN.tar.gz\n",
        "\n",
        "n_samples = 50\n",
        "#n_samples = 200\n",
        "\n",
        "file_name = 'plantstexture_10NN/plantstexture_10NN.mtx'\n",
        "matrix = scipy.io.mmread(file_name)\n",
        "matrix = scipy.sparse.csr_matrix(matrix)\n",
        "\n",
        "subsample = np.random.random_integers(0,matrix.shape[0],size=n_samples)\n",
        "\n",
        "Xs = matrix[subsample]\n",
        "Xs = [x.toarray() for x in Xs]\n",
        "\n",
        "datasets['plantstexture_10NN'] = Xs\n",
        "#Undirected Weighted Graph\n"
      ],
      "metadata": {
        "colab": {
          "base_uri": "https://localhost:8080/"
        },
        "id": "LflKmKSO1_Mh",
        "outputId": "ee9f9875-8fab-4c82-8702-510c1f336108"
      },
      "execution_count": null,
      "outputs": [
        {
          "output_type": "stream",
          "name": "stdout",
          "text": [
            "--2022-10-13 12:48:21--  https://suitesparse-collection-website.herokuapp.com/MM/ML_Graph/plantstexture_10NN.tar.gz\n",
            "Resolving suitesparse-collection-website.herokuapp.com (suitesparse-collection-website.herokuapp.com)... 54.224.34.30, 54.208.186.182, 54.243.129.215, ...\n",
            "Connecting to suitesparse-collection-website.herokuapp.com (suitesparse-collection-website.herokuapp.com)|54.224.34.30|:443... connected.\n",
            "HTTP request sent, awaiting response... 301 Moved Permanently\n",
            "Location: http://sparse-files.engr.tamu.edu/MM/ML_Graph/plantstexture_10NN.tar.gz [following]\n",
            "--2022-10-13 12:48:21--  http://sparse-files.engr.tamu.edu/MM/ML_Graph/plantstexture_10NN.tar.gz\n",
            "Resolving sparse-files.engr.tamu.edu (sparse-files.engr.tamu.edu)... 52.219.176.168\n",
            "Connecting to sparse-files.engr.tamu.edu (sparse-files.engr.tamu.edu)|52.219.176.168|:80... connected.\n",
            "HTTP request sent, awaiting response... 200 OK\n",
            "Length: 126369 (123K) [application/x-tar]\n",
            "Saving to: ‘plantstexture_10NN.tar.gz’\n",
            "\n",
            "plantstexture_10NN. 100%[===================>] 123.41K  --.-KB/s    in 0.09s   \n",
            "\n",
            "2022-10-13 12:48:21 (1.36 MB/s) - ‘plantstexture_10NN.tar.gz’ saved [126369/126369]\n",
            "\n"
          ]
        },
        {
          "output_type": "stream",
          "name": "stderr",
          "text": [
            "/usr/local/lib/python3.7/dist-packages/ipykernel_launcher.py:11: DeprecationWarning: This function is deprecated. Please call randint(0, 1599 + 1) instead\n",
            "  # This is added back by InteractiveShellApp.init_path()\n"
          ]
        }
      ]
    },
    {
      "cell_type": "markdown",
      "source": [
        "### semeion"
      ],
      "metadata": {
        "id": "_KMlgKbo2r5d"
      }
    },
    {
      "cell_type": "code",
      "source": [
        "!wget https://suitesparse-collection-website.herokuapp.com/MM/ML_Graph/semeion_10NN.tar.gz\n",
        "!tar -xf semeion_10NN.tar.gz\n",
        "\n",
        "n_samples = 50\n",
        "#n_samples = 600\n",
        "\n",
        "file_name = 'semeion_10NN/semeion_10NN.mtx'\n",
        "matrix = scipy.io.mmread(file_name)\n",
        "matrix = scipy.sparse.csr_matrix(matrix)\n",
        "\n",
        "subsample = np.random.random_integers(0,matrix.shape[0],size=n_samples)\n",
        "\n",
        "Xs = matrix[subsample]\n",
        "Xs = [x.toarray() for x in Xs]\n",
        "\n",
        "datasets['semeion_10NN'] = Xs\n",
        "#Undirected Weighted Graph\n"
      ],
      "metadata": {
        "colab": {
          "base_uri": "https://localhost:8080/"
        },
        "id": "-lGD1ISj2tK_",
        "outputId": "40fe2ab5-7727-4732-a894-85237d75b05f"
      },
      "execution_count": null,
      "outputs": [
        {
          "output_type": "stream",
          "name": "stdout",
          "text": [
            "--2022-10-13 09:54:08--  https://suitesparse-collection-website.herokuapp.com/MM/ML_Graph/semeion_10NN.tar.gz\n",
            "Resolving suitesparse-collection-website.herokuapp.com (suitesparse-collection-website.herokuapp.com)... 34.201.81.34, 54.224.34.30, 54.208.186.182, ...\n",
            "Connecting to suitesparse-collection-website.herokuapp.com (suitesparse-collection-website.herokuapp.com)|34.201.81.34|:443... connected.\n",
            "HTTP request sent, awaiting response... 301 Moved Permanently\n",
            "Location: http://sparse-files.engr.tamu.edu/MM/ML_Graph/semeion_10NN.tar.gz [following]\n",
            "--2022-10-13 09:54:09--  http://sparse-files.engr.tamu.edu/MM/ML_Graph/semeion_10NN.tar.gz\n",
            "Resolving sparse-files.engr.tamu.edu (sparse-files.engr.tamu.edu)... 52.219.100.227\n",
            "Connecting to sparse-files.engr.tamu.edu (sparse-files.engr.tamu.edu)|52.219.100.227|:80... connected.\n",
            "HTTP request sent, awaiting response... 200 OK\n",
            "Length: 85567 (84K) [application/x-tar]\n",
            "Saving to: ‘semeion_10NN.tar.gz’\n",
            "\n",
            "semeion_10NN.tar.gz 100%[===================>]  83.56K  --.-KB/s    in 0.1s    \n",
            "\n",
            "2022-10-13 09:54:09 (665 KB/s) - ‘semeion_10NN.tar.gz’ saved [85567/85567]\n",
            "\n"
          ]
        },
        {
          "output_type": "stream",
          "name": "stderr",
          "text": [
            "/usr/local/lib/python3.7/dist-packages/ipykernel_launcher.py:11: DeprecationWarning: This function is deprecated. Please call randint(0, 1593 + 1) instead\n",
            "  # This is added back by InteractiveShellApp.init_path()\n"
          ]
        }
      ]
    },
    {
      "cell_type": "markdown",
      "source": [
        "### umistfacesnorm"
      ],
      "metadata": {
        "id": "zgIVlvBG3bLh"
      }
    },
    {
      "cell_type": "code",
      "source": [
        "!wget https://suitesparse-collection-website.herokuapp.com/MM/ML_Graph/umistfacesnorm_10NN.tar.gz\n",
        "!tar -xf umistfacesnorm_10NN.tar.gz\n",
        "\n",
        "n_samples = 50\n",
        "#n_samples = 200\n",
        "\n",
        "file_name = 'umistfacesnorm_10NN/umistfacesnorm_10NN.mtx'\n",
        "matrix = scipy.io.mmread(file_name)\n",
        "matrix = scipy.sparse.csr_matrix(matrix)\n",
        "\n",
        "subsample = np.random.random_integers(0,matrix.shape[0],size=n_samples)\n",
        "\n",
        "Xs = matrix[subsample]\n",
        "Xs = [x.toarray() for x in Xs]\n",
        "\n",
        "datasets['umistfacesnorm_10NN'] = Xs\n",
        "#Undirected Weighted Graph\n"
      ],
      "metadata": {
        "colab": {
          "base_uri": "https://localhost:8080/"
        },
        "id": "n5AebS7Z3elB",
        "outputId": "5762d3c9-57ff-444c-da5f-b5156e040760"
      },
      "execution_count": null,
      "outputs": [
        {
          "output_type": "stream",
          "name": "stdout",
          "text": [
            "--2022-10-13 10:15:05--  https://suitesparse-collection-website.herokuapp.com/MM/ML_Graph/umistfacesnorm_10NN.tar.gz\n",
            "Resolving suitesparse-collection-website.herokuapp.com (suitesparse-collection-website.herokuapp.com)... 54.243.129.215, 54.224.34.30, 54.208.186.182, ...\n",
            "Connecting to suitesparse-collection-website.herokuapp.com (suitesparse-collection-website.herokuapp.com)|54.243.129.215|:443... connected.\n",
            "HTTP request sent, awaiting response... 301 Moved Permanently\n",
            "Location: http://sparse-files.engr.tamu.edu/MM/ML_Graph/umistfacesnorm_10NN.tar.gz [following]\n",
            "--2022-10-13 10:15:05--  http://sparse-files.engr.tamu.edu/MM/ML_Graph/umistfacesnorm_10NN.tar.gz\n",
            "Resolving sparse-files.engr.tamu.edu (sparse-files.engr.tamu.edu)... 52.219.96.163\n",
            "Connecting to sparse-files.engr.tamu.edu (sparse-files.engr.tamu.edu)|52.219.96.163|:80... connected.\n",
            "HTTP request sent, awaiting response... 200 OK\n",
            "Length: 41257 (40K) [application/x-tar]\n",
            "Saving to: ‘umistfacesnorm_10NN.tar.gz.1’\n",
            "\n",
            "umistfacesnorm_10NN 100%[===================>]  40.29K  --.-KB/s    in 0.06s   \n",
            "\n",
            "2022-10-13 10:15:06 (636 KB/s) - ‘umistfacesnorm_10NN.tar.gz.1’ saved [41257/41257]\n",
            "\n"
          ]
        },
        {
          "output_type": "stream",
          "name": "stderr",
          "text": [
            "/usr/local/lib/python3.7/dist-packages/ipykernel_launcher.py:11: DeprecationWarning: This function is deprecated. Please call randint(0, 575 + 1) instead\n",
            "  # This is added back by InteractiveShellApp.init_path()\n"
          ]
        }
      ]
    },
    {
      "cell_type": "markdown",
      "source": [
        "### Ecoli"
      ],
      "metadata": {
        "id": "8rH-RMLN4OSX"
      }
    },
    {
      "cell_type": "code",
      "source": [
        "!wget https://suitesparse-collection-website.herokuapp.com/MM/ML_Graph/Ecoli_10NN.tar.gz\n",
        "!tar -xf Ecoli_10NN.tar.gz\n",
        "\n",
        "n_samples = 50\n",
        "#n_samples = 200\n",
        "\n",
        "file_name = 'Ecoli_10NN/Ecoli_10NN.mtx'\n",
        "matrix = scipy.io.mmread(file_name)\n",
        "matrix = scipy.sparse.csr_matrix(matrix)\n",
        "\n",
        "subsample = np.random.random_integers(0,matrix.shape[0],size=n_samples)\n",
        "\n",
        "Xs = matrix[subsample]\n",
        "Xs = [x.toarray() for x in Xs]\n",
        "\n",
        "datasets['Ecoli_10NN'] = Xs\n",
        "#Undirected Weighted Graph\n"
      ],
      "metadata": {
        "id": "7RK_Fs_X4PeQ",
        "colab": {
          "base_uri": "https://localhost:8080/"
        },
        "outputId": "8844da69-3f0b-47f2-d2bc-b620fc5dfbeb"
      },
      "execution_count": null,
      "outputs": [
        {
          "output_type": "stream",
          "name": "stdout",
          "text": [
            "--2022-10-13 12:48:24--  https://suitesparse-collection-website.herokuapp.com/MM/ML_Graph/Ecoli_10NN.tar.gz\n",
            "Resolving suitesparse-collection-website.herokuapp.com (suitesparse-collection-website.herokuapp.com)... 54.208.186.182, 54.224.34.30, 54.243.129.215, ...\n",
            "Connecting to suitesparse-collection-website.herokuapp.com (suitesparse-collection-website.herokuapp.com)|54.208.186.182|:443... connected.\n",
            "HTTP request sent, awaiting response... 301 Moved Permanently\n",
            "Location: http://sparse-files.engr.tamu.edu/MM/ML_Graph/Ecoli_10NN.tar.gz [following]\n",
            "--2022-10-13 12:48:24--  http://sparse-files.engr.tamu.edu/MM/ML_Graph/Ecoli_10NN.tar.gz\n",
            "Resolving sparse-files.engr.tamu.edu (sparse-files.engr.tamu.edu)... 52.219.142.88\n",
            "Connecting to sparse-files.engr.tamu.edu (sparse-files.engr.tamu.edu)|52.219.142.88|:80... connected.\n",
            "HTTP request sent, awaiting response... 200 OK\n",
            "Length: 27740 (27K) [application/x-tar]\n",
            "Saving to: ‘Ecoli_10NN.tar.gz’\n",
            "\n",
            "Ecoli_10NN.tar.gz   100%[===================>]  27.09K  --.-KB/s    in 0.03s   \n",
            "\n",
            "2022-10-13 12:48:24 (923 KB/s) - ‘Ecoli_10NN.tar.gz’ saved [27740/27740]\n",
            "\n"
          ]
        },
        {
          "output_type": "stream",
          "name": "stderr",
          "text": [
            "/usr/local/lib/python3.7/dist-packages/ipykernel_launcher.py:11: DeprecationWarning: This function is deprecated. Please call randint(0, 336 + 1) instead\n",
            "  # This is added back by InteractiveShellApp.init_path()\n"
          ]
        }
      ]
    },
    {
      "cell_type": "markdown",
      "source": [
        "### usps_norm_5NN"
      ],
      "metadata": {
        "id": "xxVVLrRi4U0g"
      }
    },
    {
      "cell_type": "code",
      "source": [
        "!wget https://suitesparse-collection-website.herokuapp.com/MM/ML_Graph/usps_norm_5NN.tar.gz\n",
        "!tar -xf usps_norm_5NN.tar.gz\n",
        "\n",
        "n_samples = 50\n",
        "#n_samples = 300\n",
        "\n",
        "file_name = 'usps_norm_5NN/usps_norm_5NN.mtx'\n",
        "matrix = scipy.io.mmread(file_name)\n",
        "matrix = scipy.sparse.csr_matrix(matrix)\n",
        "\n",
        "subsample = np.random.random_integers(0,matrix.shape[0],size=n_samples)\n",
        "\n",
        "Xs = matrix[subsample]\n",
        "Xs = [x.toarray() for x in Xs]\n",
        "\n",
        "datasets['usps_norm_5NN'] = Xs\n",
        "#Undirected Weighted Graph\n"
      ],
      "metadata": {
        "id": "RD_EnUIl4Xu5",
        "colab": {
          "base_uri": "https://localhost:8080/"
        },
        "outputId": "b0386eac-dbb1-437a-909f-ed67091d0bb2"
      },
      "execution_count": null,
      "outputs": [
        {
          "output_type": "stream",
          "name": "stdout",
          "text": [
            "--2022-10-13 09:54:14--  https://suitesparse-collection-website.herokuapp.com/MM/ML_Graph/usps_norm_5NN.tar.gz\n",
            "Resolving suitesparse-collection-website.herokuapp.com (suitesparse-collection-website.herokuapp.com)... 34.201.81.34, 54.208.186.182, 54.243.129.215, ...\n",
            "Connecting to suitesparse-collection-website.herokuapp.com (suitesparse-collection-website.herokuapp.com)|34.201.81.34|:443... connected.\n",
            "HTTP request sent, awaiting response... 301 Moved Permanently\n",
            "Location: http://sparse-files.engr.tamu.edu/MM/ML_Graph/usps_norm_5NN.tar.gz [following]\n",
            "--2022-10-13 09:54:15--  http://sparse-files.engr.tamu.edu/MM/ML_Graph/usps_norm_5NN.tar.gz\n",
            "Resolving sparse-files.engr.tamu.edu (sparse-files.engr.tamu.edu)... 52.219.101.132\n",
            "Connecting to sparse-files.engr.tamu.edu (sparse-files.engr.tamu.edu)|52.219.101.132|:80... connected.\n",
            "HTTP request sent, awaiting response... 200 OK\n",
            "Length: 467315 (456K) [application/x-tar]\n",
            "Saving to: ‘usps_norm_5NN.tar.gz’\n",
            "\n",
            "usps_norm_5NN.tar.g 100%[===================>] 456.36K  1.42MB/s    in 0.3s    \n",
            "\n",
            "2022-10-13 09:54:15 (1.42 MB/s) - ‘usps_norm_5NN.tar.gz’ saved [467315/467315]\n",
            "\n"
          ]
        },
        {
          "output_type": "stream",
          "name": "stderr",
          "text": [
            "/usr/local/lib/python3.7/dist-packages/ipykernel_launcher.py:11: DeprecationWarning: This function is deprecated. Please call randint(0, 11000 + 1) instead\n",
            "  # This is added back by InteractiveShellApp.init_path()\n"
          ]
        }
      ]
    },
    {
      "cell_type": "markdown",
      "source": [
        "### micromass"
      ],
      "metadata": {
        "id": "-YCu3lCu5hpe"
      }
    },
    {
      "cell_type": "code",
      "source": [
        "!wget https://suitesparse-collection-website.herokuapp.com/MM/ML_Graph/micromass_10NN.tar.gz\n",
        "!tar -xf micromass_10NN.tar.gz\n",
        "\n",
        "n_samples = 50\n",
        "#n_samples = 200\n",
        "\n",
        "file_name = 'micromass_10NN/micromass_10NN.mtx'\n",
        "matrix = scipy.io.mmread(file_name)\n",
        "matrix = scipy.sparse.csr_matrix(matrix)\n",
        "\n",
        "subsample = np.random.random_integers(0,matrix.shape[0],size=n_samples)\n",
        "\n",
        "Xs = matrix[subsample]\n",
        "Xs = [x.toarray() for x in Xs]\n",
        "\n",
        "datasets['micromass_10NN'] = Xs\n",
        "#Undirected Weighted Graph\n"
      ],
      "metadata": {
        "colab": {
          "base_uri": "https://localhost:8080/"
        },
        "id": "mX1aLc7q5jFT",
        "outputId": "038713a3-19a4-4f01-af75-7072a71d9b06"
      },
      "execution_count": null,
      "outputs": [
        {
          "output_type": "stream",
          "name": "stdout",
          "text": [
            "--2022-10-13 12:48:32--  https://suitesparse-collection-website.herokuapp.com/MM/ML_Graph/micromass_10NN.tar.gz\n",
            "Resolving suitesparse-collection-website.herokuapp.com (suitesparse-collection-website.herokuapp.com)... 54.208.186.182, 54.224.34.30, 54.243.129.215, ...\n",
            "Connecting to suitesparse-collection-website.herokuapp.com (suitesparse-collection-website.herokuapp.com)|54.208.186.182|:443... connected.\n",
            "HTTP request sent, awaiting response... 301 Moved Permanently\n",
            "Location: http://sparse-files.engr.tamu.edu/MM/ML_Graph/micromass_10NN.tar.gz [following]\n",
            "--2022-10-13 12:48:32--  http://sparse-files.engr.tamu.edu/MM/ML_Graph/micromass_10NN.tar.gz\n",
            "Resolving sparse-files.engr.tamu.edu (sparse-files.engr.tamu.edu)... 52.219.108.160\n",
            "Connecting to sparse-files.engr.tamu.edu (sparse-files.engr.tamu.edu)|52.219.108.160|:80... connected.\n",
            "HTTP request sent, awaiting response... 200 OK\n",
            "Length: 57569 (56K) [application/x-tar]\n",
            "Saving to: ‘micromass_10NN.tar.gz’\n",
            "\n",
            "micromass_10NN.tar. 100%[===================>]  56.22K  --.-KB/s    in 0.06s   \n",
            "\n",
            "2022-10-13 12:48:32 (979 KB/s) - ‘micromass_10NN.tar.gz’ saved [57569/57569]\n",
            "\n"
          ]
        },
        {
          "output_type": "stream",
          "name": "stderr",
          "text": [
            "/usr/local/lib/python3.7/dist-packages/ipykernel_launcher.py:11: DeprecationWarning: This function is deprecated. Please call randint(0, 571 + 1) instead\n",
            "  # This is added back by InteractiveShellApp.init_path()\n"
          ]
        }
      ]
    },
    {
      "cell_type": "markdown",
      "source": [
        "### lp_brandy"
      ],
      "metadata": {
        "id": "ThsgvE_l61G_"
      }
    },
    {
      "cell_type": "code",
      "source": [
        "!wget https://suitesparse-collection-website.herokuapp.com/MM/LPnetlib/lp_brandy.tar.gz\n",
        "!tar -xf lp_brandy.tar.gz\n",
        "\n",
        "n_samples = 50\n",
        "#n_samples = 200\n",
        "\n",
        "file_name = 'lp_brandy/lp_brandy.mtx'\n",
        "matrix = scipy.io.mmread(file_name)\n",
        "matrix = scipy.sparse.csr_matrix(matrix)\n",
        "\n",
        "subsample = np.random.random_integers(0,matrix.shape[0],size=n_samples)\n",
        "\n",
        "Xs = matrix[subsample]\n",
        "Xs = [x.toarray() for x in Xs]\n",
        "\n",
        "datasets['lp_brandy'] = Xs\n",
        "#Linear Programming\n"
      ],
      "metadata": {
        "colab": {
          "base_uri": "https://localhost:8080/"
        },
        "id": "Pip7nyDa61Un",
        "outputId": "622b2d26-cca4-4826-98f5-b8ace6c9fd3f"
      },
      "execution_count": null,
      "outputs": [
        {
          "output_type": "stream",
          "name": "stdout",
          "text": [
            "--2022-10-13 10:38:23--  https://suitesparse-collection-website.herokuapp.com/MM/LPnetlib/lp_brandy.tar.gz\n",
            "Resolving suitesparse-collection-website.herokuapp.com (suitesparse-collection-website.herokuapp.com)... 54.224.34.30, 54.208.186.182, 34.201.81.34, ...\n",
            "Connecting to suitesparse-collection-website.herokuapp.com (suitesparse-collection-website.herokuapp.com)|54.224.34.30|:443... connected.\n",
            "HTTP request sent, awaiting response... 301 Moved Permanently\n",
            "Location: http://sparse-files.engr.tamu.edu/MM/LPnetlib/lp_brandy.tar.gz [following]\n",
            "--2022-10-13 10:38:23--  http://sparse-files.engr.tamu.edu/MM/LPnetlib/lp_brandy.tar.gz\n",
            "Resolving sparse-files.engr.tamu.edu (sparse-files.engr.tamu.edu)... 52.219.96.163\n",
            "Connecting to sparse-files.engr.tamu.edu (sparse-files.engr.tamu.edu)|52.219.96.163|:80... connected.\n",
            "HTTP request sent, awaiting response... 200 OK\n",
            "Length: 10688 (10K) [application/x-tar]\n",
            "Saving to: ‘lp_brandy.tar.gz’\n",
            "\n",
            "lp_brandy.tar.gz    100%[===================>]  10.44K  --.-KB/s    in 0s      \n",
            "\n",
            "2022-10-13 10:38:24 (256 MB/s) - ‘lp_brandy.tar.gz’ saved [10688/10688]\n",
            "\n"
          ]
        },
        {
          "output_type": "stream",
          "name": "stderr",
          "text": [
            "/usr/local/lib/python3.7/dist-packages/ipykernel_launcher.py:11: DeprecationWarning: This function is deprecated. Please call randint(0, 220 + 1) instead\n",
            "  # This is added back by InteractiveShellApp.init_path()\n"
          ]
        }
      ]
    },
    {
      "cell_type": "markdown",
      "source": [
        "### Glass_10NN"
      ],
      "metadata": {
        "id": "EBlSgrl-79z1"
      }
    },
    {
      "cell_type": "code",
      "source": [
        "!wget https://suitesparse-collection-website.herokuapp.com/MM/ML_Graph/Glass_10NN.tar.gz\n",
        "!tar -xf Glass_10NN.tar.gz\n",
        "\n",
        "n_samples = 50\n",
        "#n_samples = 200\n",
        "\n",
        "file_name = 'Glass_10NN/Glass_10NN.mtx'\n",
        "matrix = scipy.io.mmread(file_name)\n",
        "matrix = scipy.sparse.csr_matrix(matrix)\n",
        "\n",
        "subsample = np.random.random_integers(0,matrix.shape[0],size=n_samples)\n",
        "\n",
        "Xs = matrix[subsample]\n",
        "Xs = [x.toarray() for x in Xs]\n",
        "\n",
        "datasets['Glass_10NN'] = Xs\n",
        "#Undirected Weighted Graph\n"
      ],
      "metadata": {
        "colab": {
          "base_uri": "https://localhost:8080/"
        },
        "id": "UZ2gADuf797C",
        "outputId": "6dcf9f4a-806d-4212-fb13-c39763f3df7e"
      },
      "execution_count": null,
      "outputs": [
        {
          "output_type": "stream",
          "name": "stdout",
          "text": [
            "--2022-10-13 12:48:17--  https://suitesparse-collection-website.herokuapp.com/MM/ML_Graph/Glass_10NN.tar.gz\n",
            "Resolving suitesparse-collection-website.herokuapp.com (suitesparse-collection-website.herokuapp.com)... 54.224.34.30, 54.208.186.182, 54.243.129.215, ...\n",
            "Connecting to suitesparse-collection-website.herokuapp.com (suitesparse-collection-website.herokuapp.com)|54.224.34.30|:443... connected.\n",
            "HTTP request sent, awaiting response... 301 Moved Permanently\n",
            "Location: http://sparse-files.engr.tamu.edu/MM/ML_Graph/Glass_10NN.tar.gz [following]\n",
            "--2022-10-13 12:48:18--  http://sparse-files.engr.tamu.edu/MM/ML_Graph/Glass_10NN.tar.gz\n",
            "Resolving sparse-files.engr.tamu.edu (sparse-files.engr.tamu.edu)... 52.219.176.168\n",
            "Connecting to sparse-files.engr.tamu.edu (sparse-files.engr.tamu.edu)|52.219.176.168|:80... connected.\n",
            "HTTP request sent, awaiting response... 200 OK\n",
            "Length: 19119 (19K) [application/x-tar]\n",
            "Saving to: ‘Glass_10NN.tar.gz.1’\n",
            "\n",
            "Glass_10NN.tar.gz.1 100%[===================>]  18.67K  --.-KB/s    in 0.03s   \n",
            "\n",
            "2022-10-13 12:48:18 (655 KB/s) - ‘Glass_10NN.tar.gz.1’ saved [19119/19119]\n",
            "\n"
          ]
        },
        {
          "output_type": "stream",
          "name": "stderr",
          "text": [
            "/usr/local/lib/python3.7/dist-packages/ipykernel_launcher.py:11: DeprecationWarning: This function is deprecated. Please call randint(0, 214 + 1) instead\n",
            "  # This is added back by InteractiveShellApp.init_path()\n"
          ]
        }
      ]
    },
    {
      "cell_type": "markdown",
      "source": [
        "## Projections"
      ],
      "metadata": {
        "id": "YilKfSKVTAtx"
      }
    },
    {
      "cell_type": "code",
      "source": [
        "def calculate_sparsity(A):\n",
        "\n",
        "  sparsity = 1 - np.count_nonzero(A)/A.size\n",
        "  return sparsity"
      ],
      "metadata": {
        "id": "4RiqfSXYi_bD"
      },
      "execution_count": null,
      "outputs": []
    },
    {
      "cell_type": "code",
      "source": [
        "datasets['CIFAR10'] = X\n",
        "calculate_sparsity(X)"
      ],
      "metadata": {
        "colab": {
          "base_uri": "https://localhost:8080/"
        },
        "id": "ijn-c9Ui5B-K",
        "outputId": "3463dd82-cc54-448a-9492-ab0cfa4b3d7d"
      },
      "execution_count": null,
      "outputs": [
        {
          "output_type": "execute_result",
          "data": {
            "text/plain": [
              "0.9917573483427142"
            ]
          },
          "metadata": {},
          "execution_count": 59
        }
      ]
    },
    {
      "cell_type": "code",
      "source": [
        "import numpy as np\n",
        "import seaborn as sns\n",
        "import pandas as pd\n",
        "from sklearn import random_projection\n",
        "from sklearn.random_projection import SparseRandomProjection\n",
        "\n",
        "\n",
        "N_SAMPLES = 1000 # number of randomized projection restarts\n",
        "#N_INPUT = 50000 # length of projection input\n",
        "N_EMBED = 50 # length of projection output\n",
        "#L = ['Mycielski','Goodwin'] # number of non-zero components (sparsity). Note: L is used in papers on comprehensive sensing\n",
        "#L = ['Goodwin']\n",
        "#L = ['bcspwr06']\n",
        "#L = ['1138_bus', 'Mycielski']\n",
        "#L = ['Goodwin', 'bcspwr06']\n",
        "#L = ['optdigits_10NN', 'mnist_test_norm_10NN', 'plantsmargin_12NN', 'plantstexture_10NN','semeion_10NN']\n",
        "L = ['Ecoli_10NN', 'mnist_test_norm_10NN','Glass_10NN','micromass_10NN','plantstexture_10NN']\n",
        "\n",
        "non_zero = []\n",
        "outs = []\n",
        "for l in L:\n",
        "  print(l)\n",
        "\n",
        "  # build vectors with L non-zero components out of N_INPUT\n",
        "  X = datasets[l]\n",
        "\n",
        "  #print(np.count_nonzero(X))\n",
        "  #idxs = np.random.choice(range(N_INPUT),size=(l,),replace=False)\n",
        "\n",
        "  #if l == 'optdigits_10NN':\n",
        "  X = np.asarray(X)\n",
        "  nsamples, nx, ny = X.shape\n",
        "  X = X.reshape((nsamples,nx*ny))\n",
        "  non_zero.append((l,calculate_sparsity(X)))\n",
        "  #X[idxs] = 1\n",
        "  #X = X/np.linalg.norm(X,2) # normalize input\n",
        "  #X = np.expand_dims(X,0)\n",
        "\n",
        "  for dens in [0.1,0.5,1]:\n",
        "    for _ in range(N_SAMPLES):\n",
        "      transformer = SparseRandomProjection(n_components=N_EMBED,density=dens)\n",
        "      X_new = transformer.fit_transform(X)\n",
        "      distortion = np.linalg.norm(X_new,2)**2 # squared distortion is bit smoother\n",
        "      #outs.append((distortion))\n",
        "\n",
        "      outs.append((distortion,dens,'non_zero='+str(calculate_sparsity(X_new)),l))\n",
        "\n",
        "  #df = pd.DataFrame(outs, columns=[\"distortion\", \"density\"])\n",
        "\n",
        "  #sns.kdeplot(outs, legend=True)\n",
        "  #sns.kdeplot(data=df, x=\"distortion\", hue=\"density\", palette=\"tab10\")\n",
        "df = pd.DataFrame(outs, columns=[\"distortion\", \"density\", \"non_zero\", \"dataset\"])\n"
      ],
      "metadata": {
        "id": "qPkSWyD9PtwO"
      },
      "execution_count": null,
      "outputs": []
    },
    {
      "cell_type": "code",
      "source": [
        "non_zero\n",
        "df1 = pd.DataFrame(non_zero, columns=[\"dataset\", \"sparsity\"])\n",
        "df1 = df1.sort_values('sparsity')"
      ],
      "metadata": {
        "id": "dSCA6V39zDqM"
      },
      "execution_count": null,
      "outputs": []
    },
    {
      "cell_type": "code",
      "source": [
        "df1"
      ],
      "metadata": {
        "colab": {
          "base_uri": "https://localhost:8080/",
          "height": 206
        },
        "id": "ETPS3PdGzNvq",
        "outputId": "1044fe8b-a693-4db1-8c1c-976a342f862d"
      },
      "execution_count": null,
      "outputs": [
        {
          "output_type": "execute_result",
          "data": {
            "text/plain": [
              "                dataset  sparsity\n",
              "2            Glass_10NN  0.935607\n",
              "0            Ecoli_10NN  0.961012\n",
              "3        micromass_10NN  0.971594\n",
              "4    plantstexture_10NN  0.991757\n",
              "1  mnist_test_norm_10NN  0.998552"
            ],
            "text/html": [
              "\n",
              "  <div id=\"df-dab5d6e3-c45a-4f24-959d-5eec06747879\">\n",
              "    <div class=\"colab-df-container\">\n",
              "      <div>\n",
              "<style scoped>\n",
              "    .dataframe tbody tr th:only-of-type {\n",
              "        vertical-align: middle;\n",
              "    }\n",
              "\n",
              "    .dataframe tbody tr th {\n",
              "        vertical-align: top;\n",
              "    }\n",
              "\n",
              "    .dataframe thead th {\n",
              "        text-align: right;\n",
              "    }\n",
              "</style>\n",
              "<table border=\"1\" class=\"dataframe\">\n",
              "  <thead>\n",
              "    <tr style=\"text-align: right;\">\n",
              "      <th></th>\n",
              "      <th>dataset</th>\n",
              "      <th>sparsity</th>\n",
              "    </tr>\n",
              "  </thead>\n",
              "  <tbody>\n",
              "    <tr>\n",
              "      <th>2</th>\n",
              "      <td>Glass_10NN</td>\n",
              "      <td>0.935607</td>\n",
              "    </tr>\n",
              "    <tr>\n",
              "      <th>0</th>\n",
              "      <td>Ecoli_10NN</td>\n",
              "      <td>0.961012</td>\n",
              "    </tr>\n",
              "    <tr>\n",
              "      <th>3</th>\n",
              "      <td>micromass_10NN</td>\n",
              "      <td>0.971594</td>\n",
              "    </tr>\n",
              "    <tr>\n",
              "      <th>4</th>\n",
              "      <td>plantstexture_10NN</td>\n",
              "      <td>0.991757</td>\n",
              "    </tr>\n",
              "    <tr>\n",
              "      <th>1</th>\n",
              "      <td>mnist_test_norm_10NN</td>\n",
              "      <td>0.998552</td>\n",
              "    </tr>\n",
              "  </tbody>\n",
              "</table>\n",
              "</div>\n",
              "      <button class=\"colab-df-convert\" onclick=\"convertToInteractive('df-dab5d6e3-c45a-4f24-959d-5eec06747879')\"\n",
              "              title=\"Convert this dataframe to an interactive table.\"\n",
              "              style=\"display:none;\">\n",
              "        \n",
              "  <svg xmlns=\"http://www.w3.org/2000/svg\" height=\"24px\"viewBox=\"0 0 24 24\"\n",
              "       width=\"24px\">\n",
              "    <path d=\"M0 0h24v24H0V0z\" fill=\"none\"/>\n",
              "    <path d=\"M18.56 5.44l.94 2.06.94-2.06 2.06-.94-2.06-.94-.94-2.06-.94 2.06-2.06.94zm-11 1L8.5 8.5l.94-2.06 2.06-.94-2.06-.94L8.5 2.5l-.94 2.06-2.06.94zm10 10l.94 2.06.94-2.06 2.06-.94-2.06-.94-.94-2.06-.94 2.06-2.06.94z\"/><path d=\"M17.41 7.96l-1.37-1.37c-.4-.4-.92-.59-1.43-.59-.52 0-1.04.2-1.43.59L10.3 9.45l-7.72 7.72c-.78.78-.78 2.05 0 2.83L4 21.41c.39.39.9.59 1.41.59.51 0 1.02-.2 1.41-.59l7.78-7.78 2.81-2.81c.8-.78.8-2.07 0-2.86zM5.41 20L4 18.59l7.72-7.72 1.47 1.35L5.41 20z\"/>\n",
              "  </svg>\n",
              "      </button>\n",
              "      \n",
              "  <style>\n",
              "    .colab-df-container {\n",
              "      display:flex;\n",
              "      flex-wrap:wrap;\n",
              "      gap: 12px;\n",
              "    }\n",
              "\n",
              "    .colab-df-convert {\n",
              "      background-color: #E8F0FE;\n",
              "      border: none;\n",
              "      border-radius: 50%;\n",
              "      cursor: pointer;\n",
              "      display: none;\n",
              "      fill: #1967D2;\n",
              "      height: 32px;\n",
              "      padding: 0 0 0 0;\n",
              "      width: 32px;\n",
              "    }\n",
              "\n",
              "    .colab-df-convert:hover {\n",
              "      background-color: #E2EBFA;\n",
              "      box-shadow: 0px 1px 2px rgba(60, 64, 67, 0.3), 0px 1px 3px 1px rgba(60, 64, 67, 0.15);\n",
              "      fill: #174EA6;\n",
              "    }\n",
              "\n",
              "    [theme=dark] .colab-df-convert {\n",
              "      background-color: #3B4455;\n",
              "      fill: #D2E3FC;\n",
              "    }\n",
              "\n",
              "    [theme=dark] .colab-df-convert:hover {\n",
              "      background-color: #434B5C;\n",
              "      box-shadow: 0px 1px 3px 1px rgba(0, 0, 0, 0.15);\n",
              "      filter: drop-shadow(0px 1px 2px rgba(0, 0, 0, 0.3));\n",
              "      fill: #FFFFFF;\n",
              "    }\n",
              "  </style>\n",
              "\n",
              "      <script>\n",
              "        const buttonEl =\n",
              "          document.querySelector('#df-dab5d6e3-c45a-4f24-959d-5eec06747879 button.colab-df-convert');\n",
              "        buttonEl.style.display =\n",
              "          google.colab.kernel.accessAllowed ? 'block' : 'none';\n",
              "\n",
              "        async function convertToInteractive(key) {\n",
              "          const element = document.querySelector('#df-dab5d6e3-c45a-4f24-959d-5eec06747879');\n",
              "          const dataTable =\n",
              "            await google.colab.kernel.invokeFunction('convertToInteractive',\n",
              "                                                     [key], {});\n",
              "          if (!dataTable) return;\n",
              "\n",
              "          const docLinkHtml = 'Like what you see? Visit the ' +\n",
              "            '<a target=\"_blank\" href=https://colab.research.google.com/notebooks/data_table.ipynb>data table notebook</a>'\n",
              "            + ' to learn more about interactive tables.';\n",
              "          element.innerHTML = '';\n",
              "          dataTable['output_type'] = 'display_data';\n",
              "          await google.colab.output.renderOutput(dataTable, element);\n",
              "          const docLink = document.createElement('div');\n",
              "          docLink.innerHTML = docLinkHtml;\n",
              "          element.appendChild(docLink);\n",
              "        }\n",
              "      </script>\n",
              "    </div>\n",
              "  </div>\n",
              "  "
            ]
          },
          "metadata": {},
          "execution_count": 73
        }
      ]
    },
    {
      "cell_type": "code",
      "execution_count": null,
      "metadata": {
        "id": "UBUJoOGFgSpQ",
        "colab": {
          "base_uri": "https://localhost:8080/",
          "height": 302
        },
        "outputId": "92d28da1-11f5-41df-df89-21f584d4f00b"
      },
      "outputs": [
        {
          "output_type": "execute_result",
          "data": {
            "text/plain": [
              "<matplotlib.axes._subplots.AxesSubplot at 0x7efc4fc51b10>"
            ]
          },
          "metadata": {},
          "execution_count": 74
        },
        {
          "output_type": "display_data",
          "data": {
            "text/plain": [
              "<Figure size 432x288 with 1 Axes>"
            ],
            "image/png": "[encoded data removed]"
          },
          "metadata": {
            "needs_background": "light"
          }
        }
      ],
      "source": [
        "sns.ecdfplot(data=df, x=\"distortion\", hue=\"dataset\",palette=\"tab10\", complementary=True, log_scale=(False,True))"
      ]
    },
    {
      "cell_type": "code",
      "source": [
        "df.to_csv('intro_plot2.csv', sep=',')"
      ],
      "metadata": {
        "id": "DR-ask10Ygwo"
      },
      "execution_count": null,
      "outputs": []
    },
    {
      "cell_type": "code",
      "source": [
        "sns.kdeplot(data=df, x=\"distortion\", hue=\"dataset\",palette=\"tab10\")"
      ],
      "metadata": {
        "colab": {
          "base_uri": "https://localhost:8080/",
          "height": 296
        },
        "id": "PCDxnWY3wqas",
        "outputId": "dbb60425-fce6-4de3-ee9d-7fd180f2c80f"
      },
      "execution_count": null,
      "outputs": [
        {
          "output_type": "execute_result",
          "data": {
            "text/plain": [
              "<matplotlib.axes._subplots.AxesSubplot at 0x7efc5091e2d0>"
            ]
          },
          "metadata": {},
          "execution_count": 15
        },
        {
          "output_type": "display_data",
          "data": {
            "text/plain": [
              "<Figure size 432x288 with 1 Axes>"
            ],
            "image/png": "[encoded data removed]"
          },
          "metadata": {
            "needs_background": "light"
          }
        }
      ]
    },
    {
      "cell_type": "code",
      "source": [
        "\n",
        "# CIFAR10 order of 1e9\n",
        "\n",
        "# 1138_bus order 1e8\n",
        "\n",
        "#Mycielski\n",
        "\n",
        "#NIPS\n",
        "\n",
        "#MNIST 20'000\n",
        "\n",
        "# Goodwin, to be printed\n",
        "\n",
        "# bcspwr06 has distortion around 28\n",
        "\n",
        "# optdigit 0.6\n",
        "\n",
        "# mnist_test_norm 0.3\n",
        "\n",
        "\n",
        "# Ecoli and umistfacesnorm_10NN same range, around 8"
      ],
      "metadata": {
        "id": "zKDw83zNgnZD"
      },
      "execution_count": null,
      "outputs": []
    },
    {
      "cell_type": "code",
      "source": [
        "sns.lineplot(data=df, x=\"density\",y=\"distortion\", hue=\"dataset\")"
      ],
      "metadata": {
        "id": "W5_oCOyoiUth"
      },
      "execution_count": null,
      "outputs": []
    },
    {
      "cell_type": "code",
      "source": [
        "sns.lineplot(data=df, x=\"density\",y=\"distortion\", hue=\"dataset\")\n",
        "\n",
        "#Maybe 1138_bus couls go with Mycielski or NIPS as they have very high distortion?"
      ],
      "metadata": {
        "id": "JnDZyqNBBkws"
      },
      "execution_count": null,
      "outputs": []
    },
    {
      "cell_type": "code",
      "source": [
        "from matplotlib.pyplot import figure\n",
        "\n",
        "figure(figsize=(8, 6), dpi=80)\n",
        "sns.lineplot(data=df, x=\"density\",y=\"distortion\", hue=\"dataset\")"
      ],
      "metadata": {
        "id": "vXNmkYuI03GJ"
      },
      "execution_count": null,
      "outputs": []
    },
    {
      "cell_type": "code",
      "source": [],
      "metadata": {
        "id": "IAzDx8nn6-CG"
      },
      "execution_count": null,
      "outputs": []
    },
    {
      "cell_type": "markdown",
      "source": [
        "# Toy datasets, intro plot"
      ],
      "metadata": {
        "id": "DEyHDpAdxS3S"
      }
    },
    {
      "cell_type": "code",
      "execution_count": null,
      "metadata": {
        "id": "ZfxtmRUWFNCL"
      },
      "outputs": [],
      "source": [
        "import numpy as np\n",
        "import seaborn as sns\n",
        "import pandas as pd\n",
        "from sklearn import random_projection\n",
        "from sklearn.random_projection import SparseRandomProjection\n",
        "\n",
        "\n",
        "N_SAMPLES = 1000 # number of randomized projection restarts\n",
        "N_INPUT = 50000 # length of projection input\n",
        "N_EMBED = 50 # length of projection output\n",
        "L = [10,100,1000] # number of non-zero components (sparsity). Note: L is used in papers on comprehensive sensing\n",
        "\n",
        "outs = []\n",
        "for l in L:\n",
        "  # build vectors with L non-zero components out of N_INPUT\n",
        "\n",
        "  X = np.zeros((N_INPUT,))\n",
        "\n",
        "  idxs = np.random.choice(range(N_INPUT),size=(l,),replace=False)\n",
        "\n",
        "  X[idxs] = 1\n",
        "  X = X/np.linalg.norm(X,2) # normalize input\n",
        "  X = np.expand_dims(X,0)\n",
        "\n",
        "  for dens in [0.1,0.5,1.0]:\n",
        "    for _ in range(N_SAMPLES):\n",
        "      transformer = SparseRandomProjection(n_components=N_EMBED,density=dens)\n",
        "      X_new = transformer.fit_transform(X)\n",
        "      distortion = np.linalg.norm(X_new,2)**2 # squared distortion is bit smoother\n",
        "      #outs.append((distortion))\n",
        "      outs.append((distortion,dens,'non_zero='+str(l)))\n",
        "\n",
        "  #df = pd.DataFrame(outs, columns=[\"distortion\", \"density\"])\n",
        "\n",
        "  #sns.kdeplot(outs, legend=True)\n",
        "  #sns.kdeplot(data=df, x=\"distortion\", hue=\"density\", palette=\"tab10\")\n",
        "df = pd.DataFrame(outs, columns=[\"distortion\", \"density\", \"non_zero\"])\n"
      ]
    },
    {
      "cell_type": "code",
      "execution_count": null,
      "metadata": {
        "id": "_l2bDZ0YI2S6",
        "colab": {
          "base_uri": "https://localhost:8080/",
          "height": 285
        },
        "outputId": "a3329b6f-2912-460f-d024-3f81bbe8c670"
      },
      "outputs": [
        {
          "output_type": "display_data",
          "data": {
            "text/plain": [
              "<Figure size 432x288 with 1 Axes>"
            ],
            "image/png": "[encoded data removed]"
          },
          "metadata": {
            "needs_background": "light"
          }
        }
      ],
      "source": [
        "import numpy as np\n",
        "import seaborn as sns\n",
        "import pandas as pd\n",
        "from sklearn import random_projection\n",
        "from sklearn.random_projection import SparseRandomProjection\n",
        "\n",
        "\n",
        "N_SAMPLES = 1000 # number of randomized projection restarts\n",
        "N_INPUT = 1000 # length of projection input\n",
        "N_EMBED = 10 # length of projection output\n",
        "L = [10] # number of non-zero components (sparsity). Note: L is used in papers on comprehensive sensing\n",
        "\n",
        "dens_grid = [0.1,0.25,1.0]\n",
        "\n",
        "np.random.seed(1234)\n",
        "\n",
        "outs = []\n",
        "outs1 = []\n",
        "value1 = []\n",
        "value2 = []\n",
        "value3 = []\n",
        "final = []\n",
        "\n",
        "for l in L:\n",
        "  # build vectors with L non-zero components out of N_INPUT\n",
        "  X = np.zeros((N_INPUT,))\n",
        "\n",
        "  idxs = np.random.choice(range(N_INPUT),size=(l,),replace=False)\n",
        "\n",
        "  X[idxs] = 1\n",
        "  X = X/np.linalg.norm(X,2) # normalize input\n",
        "  X = np.expand_dims(X,0)\n",
        "\n",
        "  for dens in dens_grid:\n",
        "    for i in range(N_SAMPLES):\n",
        "      transformer = SparseRandomProjection(n_components=N_EMBED,density=dens)\n",
        "      X_new = transformer.fit_transform(X)\n",
        "      distortion = np.linalg.norm(X_new,2)**2-1 # squared distortion is bit smoother\n",
        "\n",
        "      if dens == 0.1:\n",
        "        value1.append(distortion)\n",
        "      if dens == 0.25:\n",
        "        value2.append(distortion)\n",
        "      if dens == 1.0:\n",
        "        value3.append(distortion)\n",
        "\n",
        "      outs.append((distortion,dens))\n",
        "      outs1.append((distortion,dens))\n",
        "\n",
        "for i in range(N_SAMPLES):\n",
        "  final.append((value1[i],value2[i],value3[i]))\n",
        "\n",
        "df = pd.DataFrame(outs, columns=[\"distortion\", \"density\"])\n",
        "sns.ecdfplot(data=df, x=\"distortion\", hue=\"density\", palette=\"tab10\",complementary=True, log_scale=(False,True))\n",
        "\n",
        "df = pd.DataFrame(final, columns=[\"distortion\",\"distortion\",\"distortion\"])\n",
        "df.to_csv('intro_plot2.csv', sep=',')\n"
      ]
    },
    {
      "cell_type": "code",
      "execution_count": null,
      "metadata": {
        "id": "hpyEXW5oucHd"
      },
      "outputs": [],
      "source": [
        "from matplotlib import pyplot as plt\n",
        "from statsmodels.distributions.empirical_distribution import ECDF\n",
        "#fig,ax = plt.subplots()\n",
        "\n",
        "xspace = np.linspace(-1,2.1,100)\n",
        "ecdfs = [ECDF(df[df['density']==dens]['distortion'])(xspace) for dens in dens_grid]\n",
        "ecdfs = pd.DataFrame(1-np.vstack(ecdfs).T,columns=dens_grid)\n",
        "ecdfs['x'] = xspace\n",
        "ecdfs.to_csv('ecdfs.csv')\n",
        "\n",
        "#pd.DataFrame(ecdfs))\n",
        "#np.vstack(ecdfs).T\n",
        "\n",
        "#for dens in dens_grid:\n",
        "#  ecdf = ECDF(df[df['density']==dens]['distortion'])\n",
        "#  sns.lineplot(x=xspace,y=1-ecdf(xspace),ax=ax)\n",
        "#ax.set(yscale='log')"
      ]
    },
    {
      "cell_type": "code",
      "source": [
        "ecdfs"
      ],
      "metadata": {
        "colab": {
          "base_uri": "https://localhost:8080/",
          "height": 424
        },
        "id": "yKZYX4eysvJi",
        "outputId": "febf952c-4ef7-4da3-e5d2-e84dffadf48d"
      },
      "execution_count": null,
      "outputs": [
        {
          "output_type": "execute_result",
          "data": {
            "text/plain": [
              "     0.10   0.25  1.00\n",
              "0   1.000  1.000   1.0\n",
              "1   1.000  1.000   1.0\n",
              "2   1.000  1.000   1.0\n",
              "3   1.000  0.999   1.0\n",
              "4   0.998  0.998   1.0\n",
              "..    ...    ...   ...\n",
              "95  0.001  0.000   0.0\n",
              "96  0.001  0.000   0.0\n",
              "97  0.001  0.000   0.0\n",
              "98  0.001  0.000   0.0\n",
              "99  0.000  0.000   0.0\n",
              "\n",
              "[100 rows x 3 columns]"
            ],
            "text/html": [
              "\n",
              "  <div id=\"df-51645acc-f198-4f7c-959b-9d8d3b49868d\">\n",
              "    <div class=\"colab-df-container\">\n",
              "      <div>\n",
              "<style scoped>\n",
              "    .dataframe tbody tr th:only-of-type {\n",
              "        vertical-align: middle;\n",
              "    }\n",
              "\n",
              "    .dataframe tbody tr th {\n",
              "        vertical-align: top;\n",
              "    }\n",
              "\n",
              "    .dataframe thead th {\n",
              "        text-align: right;\n",
              "    }\n",
              "</style>\n",
              "<table border=\"1\" class=\"dataframe\">\n",
              "  <thead>\n",
              "    <tr style=\"text-align: right;\">\n",
              "      <th></th>\n",
              "      <th>0.10</th>\n",
              "      <th>0.25</th>\n",
              "      <th>1.00</th>\n",
              "    </tr>\n",
              "  </thead>\n",
              "  <tbody>\n",
              "    <tr>\n",
              "      <th>0</th>\n",
              "      <td>1.000</td>\n",
              "      <td>1.000</td>\n",
              "      <td>1.0</td>\n",
              "    </tr>\n",
              "    <tr>\n",
              "      <th>1</th>\n",
              "      <td>1.000</td>\n",
              "      <td>1.000</td>\n",
              "      <td>1.0</td>\n",
              "    </tr>\n",
              "    <tr>\n",
              "      <th>2</th>\n",
              "      <td>1.000</td>\n",
              "      <td>1.000</td>\n",
              "      <td>1.0</td>\n",
              "    </tr>\n",
              "    <tr>\n",
              "      <th>3</th>\n",
              "      <td>1.000</td>\n",
              "      <td>0.999</td>\n",
              "      <td>1.0</td>\n",
              "    </tr>\n",
              "    <tr>\n",
              "      <th>4</th>\n",
              "      <td>0.998</td>\n",
              "      <td>0.998</td>\n",
              "      <td>1.0</td>\n",
              "    </tr>\n",
              "    <tr>\n",
              "      <th>...</th>\n",
              "      <td>...</td>\n",
              "      <td>...</td>\n",
              "      <td>...</td>\n",
              "    </tr>\n",
              "    <tr>\n",
              "      <th>95</th>\n",
              "      <td>0.001</td>\n",
              "      <td>0.000</td>\n",
              "      <td>0.0</td>\n",
              "    </tr>\n",
              "    <tr>\n",
              "      <th>96</th>\n",
              "      <td>0.001</td>\n",
              "      <td>0.000</td>\n",
              "      <td>0.0</td>\n",
              "    </tr>\n",
              "    <tr>\n",
              "      <th>97</th>\n",
              "      <td>0.001</td>\n",
              "      <td>0.000</td>\n",
              "      <td>0.0</td>\n",
              "    </tr>\n",
              "    <tr>\n",
              "      <th>98</th>\n",
              "      <td>0.001</td>\n",
              "      <td>0.000</td>\n",
              "      <td>0.0</td>\n",
              "    </tr>\n",
              "    <tr>\n",
              "      <th>99</th>\n",
              "      <td>0.000</td>\n",
              "      <td>0.000</td>\n",
              "      <td>0.0</td>\n",
              "    </tr>\n",
              "  </tbody>\n",
              "</table>\n",
              "<p>100 rows × 3 columns</p>\n",
              "</div>\n",
              "      <button class=\"colab-df-convert\" onclick=\"convertToInteractive('df-51645acc-f198-4f7c-959b-9d8d3b49868d')\"\n",
              "              title=\"Convert this dataframe to an interactive table.\"\n",
              "              style=\"display:none;\">\n",
              "        \n",
              "  <svg xmlns=\"http://www.w3.org/2000/svg\" height=\"24px\"viewBox=\"0 0 24 24\"\n",
              "       width=\"24px\">\n",
              "    <path d=\"M0 0h24v24H0V0z\" fill=\"none\"/>\n",
              "    <path d=\"M18.56 5.44l.94 2.06.94-2.06 2.06-.94-2.06-.94-.94-2.06-.94 2.06-2.06.94zm-11 1L8.5 8.5l.94-2.06 2.06-.94-2.06-.94L8.5 2.5l-.94 2.06-2.06.94zm10 10l.94 2.06.94-2.06 2.06-.94-2.06-.94-.94-2.06-.94 2.06-2.06.94z\"/><path d=\"M17.41 7.96l-1.37-1.37c-.4-.4-.92-.59-1.43-.59-.52 0-1.04.2-1.43.59L10.3 9.45l-7.72 7.72c-.78.78-.78 2.05 0 2.83L4 21.41c.39.39.9.59 1.41.59.51 0 1.02-.2 1.41-.59l7.78-7.78 2.81-2.81c.8-.78.8-2.07 0-2.86zM5.41 20L4 18.59l7.72-7.72 1.47 1.35L5.41 20z\"/>\n",
              "  </svg>\n",
              "      </button>\n",
              "      \n",
              "  <style>\n",
              "    .colab-df-container {\n",
              "      display:flex;\n",
              "      flex-wrap:wrap;\n",
              "      gap: 12px;\n",
              "    }\n",
              "\n",
              "    .colab-df-convert {\n",
              "      background-color: #E8F0FE;\n",
              "      border: none;\n",
              "      border-radius: 50%;\n",
              "      cursor: pointer;\n",
              "      display: none;\n",
              "      fill: #1967D2;\n",
              "      height: 32px;\n",
              "      padding: 0 0 0 0;\n",
              "      width: 32px;\n",
              "    }\n",
              "\n",
              "    .colab-df-convert:hover {\n",
              "      background-color: #E2EBFA;\n",
              "      box-shadow: 0px 1px 2px rgba(60, 64, 67, 0.3), 0px 1px 3px 1px rgba(60, 64, 67, 0.15);\n",
              "      fill: #174EA6;\n",
              "    }\n",
              "\n",
              "    [theme=dark] .colab-df-convert {\n",
              "      background-color: #3B4455;\n",
              "      fill: #D2E3FC;\n",
              "    }\n",
              "\n",
              "    [theme=dark] .colab-df-convert:hover {\n",
              "      background-color: #434B5C;\n",
              "      box-shadow: 0px 1px 3px 1px rgba(0, 0, 0, 0.15);\n",
              "      filter: drop-shadow(0px 1px 2px rgba(0, 0, 0, 0.3));\n",
              "      fill: #FFFFFF;\n",
              "    }\n",
              "  </style>\n",
              "\n",
              "      <script>\n",
              "        const buttonEl =\n",
              "          document.querySelector('#df-51645acc-f198-4f7c-959b-9d8d3b49868d button.colab-df-convert');\n",
              "        buttonEl.style.display =\n",
              "          google.colab.kernel.accessAllowed ? 'block' : 'none';\n",
              "\n",
              "        async function convertToInteractive(key) {\n",
              "          const element = document.querySelector('#df-51645acc-f198-4f7c-959b-9d8d3b49868d');\n",
              "          const dataTable =\n",
              "            await google.colab.kernel.invokeFunction('convertToInteractive',\n",
              "                                                     [key], {});\n",
              "          if (!dataTable) return;\n",
              "\n",
              "          const docLinkHtml = 'Like what you see? Visit the ' +\n",
              "            '<a target=\"_blank\" href=https://colab.research.google.com/notebooks/data_table.ipynb>data table notebook</a>'\n",
              "            + ' to learn more about interactive tables.';\n",
              "          element.innerHTML = '';\n",
              "          dataTable['output_type'] = 'display_data';\n",
              "          await google.colab.output.renderOutput(dataTable, element);\n",
              "          const docLink = document.createElement('div');\n",
              "          docLink.innerHTML = docLinkHtml;\n",
              "          element.appendChild(docLink);\n",
              "        }\n",
              "      </script>\n",
              "    </div>\n",
              "  </div>\n",
              "  "
            ]
          },
          "metadata": {},
          "execution_count": 73
        }
      ]
    },
    {
      "cell_type": "code",
      "source": [],
      "metadata": {
        "id": "VbosLyeXoULk"
      },
      "execution_count": null,
      "outputs": []
    }
  ],
  "metadata": {
    "colab": {
      "collapsed_sections": [
        "igr1Jzj8Sl6b",
        "PrI7RKGESpSp",
        "gOVjwpLBSryC",
        "DEyHDpAdxS3S"
      ],
      "provenance": [],
      "include_colab_link": true
    },
    "kernelspec": {
      "display_name": "Python 3",
      "name": "python3"
    },
    "language_info": {
      "name": "python"
    }
  },
  "nbformat": 4,
  "nbformat_minor": 0
}